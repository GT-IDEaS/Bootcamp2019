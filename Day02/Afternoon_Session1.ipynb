{
 "cells": [
  {
   "cell_type": "markdown",
   "metadata": {},
   "source": [
    "# Day 2 Afternoon Session 1\n",
    "\n",
    "Today we'll be going over some of the advanced libraries in python. The main topics will be the linear algebra library `numpy`, the plotting library `matplotlib`, and the scientific computing package `scipy`"
   ]
  },
  {
   "cell_type": "code",
   "execution_count": 1,
   "metadata": {},
   "outputs": [],
   "source": [
    "%matplotlib inline\n",
    "import matplotlib.pyplot as plt\n",
    "from IPython.display import Image"
   ]
  },
  {
   "cell_type": "code",
   "execution_count": 2,
   "metadata": {},
   "outputs": [
    {
     "data": {
      "text/plain": [
       "[<matplotlib.lines.Line2D at 0x1cb85ecb7f0>]"
      ]
     },
     "execution_count": 2,
     "metadata": {},
     "output_type": "execute_result"
    },
    {
     "data": {
      "image/png": "[encoded data removed]",
      "text/plain": [
       "<Figure size 432x288 with 1 Axes>"
      ]
     },
     "metadata": {},
     "output_type": "display_data"
    }
   ],
   "source": [
    "plt.plot([1,2,3,4],[1,4,9,16])"
   ]
  },
  {
   "cell_type": "markdown",
   "metadata": {},
   "source": [
    "## Numpy\n",
    "\n",
    "Numpy is not part of the \"standard library\", but it might as well be for engineers. Numpy is Python's answer to Matlab - the \"back end\" is implemented in C so its performance is very fast (comparable to Matlab)."
   ]
  },
  {
   "cell_type": "code",
   "execution_count": null,
   "metadata": {},
   "outputs": [],
   "source": []
  },
  {
   "cell_type": "markdown",
   "metadata": {},
   "source": [
    "## Creating numpy arrays\n",
    "\n",
    "There are a number of ways to initialize new numpy arrays, for example from\n",
    "\n",
    "* a Python list or tuples\n",
    "* using functions that are dedicated to generating numpy arrays, such as arange, linspace, etc.\n",
    "* reading data from files\n"
   ]
  },
  {
   "cell_type": "code",
   "execution_count": null,
   "metadata": {},
   "outputs": [],
   "source": []
  },
  {
   "cell_type": "markdown",
   "metadata": {},
   "source": [
    "## Math With Numpy Arrays"
   ]
  },
  {
   "cell_type": "code",
   "execution_count": null,
   "metadata": {},
   "outputs": [],
   "source": []
  },
  {
   "cell_type": "markdown",
   "metadata": {},
   "source": [
    "It is often more efficient to generate large arrays instead of creating them from lists. There are a few useful functions for this in numpy:\n",
    "\n",
    "* `np.arange` - create a range with a specified step size (endpoints not included)\n",
    "* `np.linspace` - create a range with a specified number of points (endpoints *are* included)\n",
    "* `np.logspace` - create a range with a specified number of points in log space (endpoints *are* included)\n",
    "* `np.mgrid` - create points on a multi-dimensional grid (similar to meshgrid in matlab)\n",
    "* `np.random.rand` - create random number matrix from a uniform distribution\n",
    "* `np.random.randn` - create random number matrix from a standard normal distribution\n",
    "* `np.zeros` - create a matrix of zeros\n",
    "* `np.ones` - create a matrix of ones\n",
    "* `np.eye` - create identity matrix\n",
    "\n",
    "be sure to check the [manual](https://docs.scipy.org/doc/numpy/reference/) if you get confused"
   ]
  },
  {
   "cell_type": "code",
   "execution_count": null,
   "metadata": {},
   "outputs": [],
   "source": []
  },
  {
   "cell_type": "markdown",
   "metadata": {},
   "source": [
    "## index slicing"
   ]
  },
  {
   "cell_type": "code",
   "execution_count": null,
   "metadata": {},
   "outputs": [],
   "source": []
  },
  {
   "cell_type": "markdown",
   "metadata": {},
   "source": [
    "## Matrix Operations"
   ]
  },
  {
   "cell_type": "code",
   "execution_count": null,
   "metadata": {},
   "outputs": [],
   "source": []
  },
  {
   "cell_type": "markdown",
   "metadata": {},
   "source": [
    "## Solving Linear Problems\n",
    "\n",
    "ax = b"
   ]
  },
  {
   "cell_type": "code",
   "execution_count": null,
   "metadata": {},
   "outputs": [],
   "source": []
  },
  {
   "cell_type": "markdown",
   "metadata": {},
   "source": [
    "# Reshaping Arrays"
   ]
  },
  {
   "cell_type": "code",
   "execution_count": null,
   "metadata": {},
   "outputs": [],
   "source": []
  },
  {
   "cell_type": "markdown",
   "metadata": {},
   "source": [
    "## Activity\n",
    "\n",
    "Make two arrays (x and y.) The first is a linear spacing of 40 numbers between 0 and 10. The second, y, evaluates the equation below. Then add normally distributed noise to it that has a mean of 1 and a standard deviation of 0.5 We'll use this for plotting in the next section.\n",
    "\n",
    "$y = 0.04x^3 - 0.5x^2 + 2.5x$"
   ]
  },
  {
   "cell_type": "code",
   "execution_count": null,
   "metadata": {},
   "outputs": [],
   "source": []
  },
  {
   "cell_type": "markdown",
   "metadata": {},
   "source": [
    "# matplotlib - Plotting in Python\n",
    "\n",
    "Matplotlib has advantages:\n",
    "\n",
    "* Easy to get started (MATLAB-like interface)\n",
    "* Support for LaTeX formatted labels and texts\n",
    "* Output in many formats, including PNG, PDF, SVG, EPS, and PGF.\n",
    "* Extensive gallery of examples with source code (https://matplotlib.org/gallery.html)\n",
    "* Programmatic control over all aspects of figures\n",
    "\n",
    "\n",
    "Other plotting tools are available (Plotly, Bokeh, D3, ...) but `matplotlib` is the workhorse.\n",
    "\n",
    "Matplotlib can be used in two ways:\n",
    "\n",
    "* `pylab` modules (works like MATLAB)\n",
    "* object-oreinted interface (harder but more powerful)"
   ]
  },
  {
   "cell_type": "code",
   "execution_count": null,
   "metadata": {},
   "outputs": [],
   "source": []
  },
  {
   "cell_type": "code",
   "execution_count": null,
   "metadata": {},
   "outputs": [],
   "source": []
  },
  {
   "cell_type": "markdown",
   "metadata": {},
   "source": [
    "## The matplotlib object-oriented interface\n",
    "\n",
    "The `pylab` interface is easy, but limited.\n",
    "\n",
    "* Use simple global functions that match with MATLAB\n",
    "* Objects are implicitly defined and hidden from users.\n",
    "\n",
    "The `pyplot` object-oriented interface is harder to learn, but much more powerful.\n",
    "\n",
    "* Use objects instead of global functions.\n",
    "* Explicitly define objects - much better for multiple figures."
   ]
  },
  {
   "cell_type": "code",
   "execution_count": null,
   "metadata": {},
   "outputs": [],
   "source": [
    "import matplotlib\n",
    "import matplotlib.pyplot as plt\n",
    "import numpy as np"
   ]
  },
  {
   "cell_type": "code",
   "execution_count": null,
   "metadata": {},
   "outputs": [],
   "source": []
  },
  {
   "cell_type": "markdown",
   "metadata": {},
   "source": [
    "### Saving figures\n",
    "\n",
    "To save a figure to a file we can use the `savefig` method in the `Figure` class. You can output in many formats, but the most common are:\n",
    "\n",
    "* PNG (raster)\n",
    "* JPG (raster)\n",
    "* SVG (vector)\n",
    "* PDF (vector)\n",
    "\n",
    "The SVG and PDF formats are great because they can be edited afterward with vector graphics programs like Inkscape or Adobe Illustrator."
   ]
  },
  {
   "cell_type": "code",
   "execution_count": null,
   "metadata": {},
   "outputs": [],
   "source": []
  },
  {
   "cell_type": "markdown",
   "metadata": {},
   "source": [
    "## The Gallery\n",
    "\n",
    "Matplotlib is a complicated library. The matplotlib gallery is the most useful resource for learning matplotlib\n",
    "\n",
    "https://matplotlib.org/gallery.html"
   ]
  },
  {
   "cell_type": "markdown",
   "metadata": {},
   "source": [
    "## Activitiy\n",
    "\n",
    "make a barchart with the following data with red bars. Then put the word \"Success!\" above the data at a 30 degree angle. (hint: Use the matplotlib gallery to get on the right track)"
   ]
  },
  {
   "cell_type": "code",
   "execution_count": null,
   "metadata": {},
   "outputs": [],
   "source": [
    "month = ['Jan','Feb','Mar','Apr','May','Jun','Jul']\n",
    "amount = np.linspace(30,80,7) + np.random.randn(7) * 3\n"
   ]
  },
  {
   "cell_type": "markdown",
   "metadata": {},
   "source": [
    "# Scipy\n",
    "\n",
    "Scipy is a library focused on tools that scientists will often need, such as optimization, statistics, and numerical integration."
   ]
  },
  {
   "cell_type": "markdown",
   "metadata": {},
   "source": [
    "## Linear Regression"
   ]
  },
  {
   "cell_type": "code",
   "execution_count": null,
   "metadata": {},
   "outputs": [],
   "source": []
  },
  {
   "cell_type": "markdown",
   "metadata": {},
   "source": [
    "## Polynomial Fitting\n",
    "\n",
    "numpy actually has tools for this `np.polyfit`"
   ]
  },
  {
   "cell_type": "code",
   "execution_count": null,
   "metadata": {},
   "outputs": [],
   "source": []
  },
  {
   "cell_type": "markdown",
   "metadata": {},
   "source": [
    "## Optimization"
   ]
  },
  {
   "cell_type": "code",
   "execution_count": null,
   "metadata": {},
   "outputs": [],
   "source": [
    "from scipy import optimize\n",
    "\n",
    "def f(x):\n",
    "    return 4*x**3 + (x-2)**2 + x**4\n",
    "\n",
    "fig, ax  = plt.subplots()\n",
    "x = np.linspace(-5, 3, 100)\n",
    "y = f(x)\n",
    "ax.plot(x, y);"
   ]
  },
  {
   "cell_type": "code",
   "execution_count": null,
   "metadata": {},
   "outputs": [],
   "source": []
  },
  {
   "cell_type": "code",
   "execution_count": null,
   "metadata": {},
   "outputs": [],
   "source": []
  }
 ],
 "metadata": {
  "kernelspec": {
   "display_name": "Python 3",
   "language": "python",
   "name": "python3"
  },
  "language_info": {
   "codemirror_mode": {
    "name": "ipython",
    "version": 3
   },
   "file_extension": ".py",
   "mimetype": "text/x-python",
   "name": "python",
   "nbconvert_exporter": "python",
   "pygments_lexer": "ipython3",
   "version": "3.6.5"
  }
 },
 "nbformat": 4,
 "nbformat_minor": 2
}
