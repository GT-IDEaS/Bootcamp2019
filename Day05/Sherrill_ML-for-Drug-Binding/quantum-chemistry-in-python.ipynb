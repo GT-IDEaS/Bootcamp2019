{
 "cells": [
  {
   "cell_type": "markdown",
   "metadata": {},
   "source": [
    "Quantum Chemistry in Python\n",
    "===============\n",
    "\n",
    "In this lesson we will explore how to perform Quantum Chemistry computations from Python, as well as several data science applications within the field of quantum chemistry.  To do this, we will utilize the quantum chemistry package Psi4, which has a Python front end and API, as well as several Python libraries for data analysis, visualization, and machine learning. \n",
    "\n",
    "## Quantum Chemistry Basics"
   ]
  },
  {
   "cell_type": "code",
   "execution_count": 1,
   "metadata": {},
   "outputs": [],
   "source": [
    "# ==> Import libraries <==\n",
    "import psi4                               # Quantum chemistry package \n",
    "import numpy as np                        # Numerical operations\n",
    "import pandas as pd                       # Data handling\n",
    "import matplotlib.pyplot as plt           # Plotting & visualization\n",
    "from utilities.plotting import sapt_bars  # Custom library for fancy plotting\n",
    "\n",
    "%matplotlib inline"
   ]
  },
  {
   "cell_type": "code",
   "execution_count": 4,
   "metadata": {},
   "outputs": [],
   "source": [
    "# ==> Example 1: Construct He...He Potential Curve <==\n",
    "\n",
    "# Define atomic coordinates for He dimer\n",
    "He_dimer = \"\"\"\n",
    "0 1\n",
    "He 0 0 0    # First He at the origin\n",
    "--\n",
    "He 0 0 {}   # Other He displaced along z-axis\n",
    "\n",
    "units angstrom\n",
    "\"\"\"\n",
    "\n",
    "psivariables = {}\n",
    "\n",
    "# Iterate over He...He separation distances in z axis\n",
    "for r in np.arange(2.6, 10, 0.1):\n",
    "    mol = psi4.geometry(He_dimer.format(r))                      # Create Psi4 molecule with displaced He dimer\n",
    "    ie = psi4.energy('b3lyp-d3mbj/aug-cc-pvdz', bsse_type='cp')  # Compute CP-corrected interaction energy\n",
    "    psivariables[r] = psi4.core.variables()                      # Save Psi4 internal variables\n",
    "\n",
    "pvdf = pd.DataFrame(data=psivariables).T # Store Psi4 internal variables inside Pandas DataFrame\n",
    "pvdf *= psi4.constants.hartree2kcalmol   # Convert energy units from atomic units (Hartree) to kcal/mol"
   ]
  },
  {
   "cell_type": "code",
   "execution_count": 23,
   "metadata": {},
   "outputs": [
    {
     "data": {
      "text/plain": [
       "Text(0, 0.5, 'Interaction Energy (kcal/mol)')"
      ]
     },
     "execution_count": 23,
     "metadata": {},
     "output_type": "execute_result"
    },
    {
     "data": {
      "image/png": "[encoded data removed]",
      "text/plain": [
       "<Figure size 432x288 with 1 Axes>"
      ]
     },
     "metadata": {},
     "output_type": "display_data"
    }
   ],
   "source": [
    "# ==> Plot IE curve directly from Pandas <==\n",
    "plot_options = {'style': 'bo-',\n",
    "                'title': 'He$_2$ Interaction Energies',\n",
    "                'legend': True\n",
    "               }\n",
    "\n",
    "pvdf['CP-CORRECTED 2-BODY INTERACTION ENERGY'].plot(**plot_options)\n",
    "plt.xlabel('Interatomic Separation ($\\AA$)')\n",
    "plt.ylabel('Interaction Energy (kcal/mol)')"
   ]
  },
  {
   "cell_type": "code",
   "execution_count": null,
   "metadata": {},
   "outputs": [],
   "source": []
  }
 ],
 "metadata": {
  "kernelspec": {
   "display_name": "Python 3",
   "language": "python",
   "name": "python3"
  },
  "language_info": {
   "codemirror_mode": {
    "name": "ipython",
    "version": 3
   },
   "file_extension": ".py",
   "mimetype": "text/x-python",
   "name": "python",
   "nbconvert_exporter": "python",
   "pygments_lexer": "ipython3",
   "version": "3.6.6"
  },
  "latex_envs": {
   "LaTeX_envs_menu_present": true,
   "autoclose": false,
   "autocomplete": true,
   "bibliofile": "biblio.bib",
   "cite_by": "apalike",
   "current_citInitial": 1,
   "eqLabelWithNumbers": true,
   "eqNumInitial": 1,
   "hotkeys": {
    "equation": "Ctrl-E",
    "itemize": "Ctrl-I"
   },
   "labels_anchors": false,
   "latex_user_defs": false,
   "report_style_numbering": true,
   "user_envs_cfg": true
  }
 },
 "nbformat": 4,
 "nbformat_minor": 2
}
