{
  "cells": [
    {
      "metadata": {},
      "cell_type": "markdown",
      "source": "<center>  <a class=\"anchor\" id=\"top\"></a>\n<img src=\"nsf.png\" alt=\"Drawing\" style=\"Width:  900px;\"/>\n<center>"
    },
    {
      "metadata": {},
      "cell_type": "markdown",
      "source": "# Table of Contents\n1. [Setup](#setup)\n1. [Magics](#magics)\n1. [Widgets](#widgets)\n1. [LaTeX](#latex)    \n1. [Strings](#strings)\n1. [Lists](#list)\n1. [Tuples](#tuples)\n1. [Dictionaries](#dictionaries)\n1. [Custom Functions](#custom-functions)\n1. [Ternary Operators](#ternary-operators)\n1. [List Comprehensions](#list-comprehensions)\n1. [Regular Expressions](#regular-expressions)\n1. [Pandas](#pandas)\n1. [Real-world Example](#rwe)\n1. [Resources](#resources)"
    },
    {
      "metadata": {},
      "cell_type": "markdown",
      "source": "## Setup  <a class=\"anchor\" id=\"setup\">\nBelow are the packages and functions that we will use in this notebook. The first cell pip installs the ***haversine*** package because it is not one of the pre-installed packages available for Azure Notebooks. The \"!\" tells Jupyter Notebook to execute the code as a cell command. The first line of code in the second cell is importing the entire pandas package with an alias of pd. The next line in the second cell is importing the ***YouTubeVideo*** function from the ***display*** module in the ***IPython*** library. In the last line in the second cell is importing the ***haversine*** function from the ***haversine*** library."
    },
    {
      "metadata": {
        "trusted": true
      },
      "cell_type": "code",
      "source": "!pip install haversine",
      "execution_count": null,
      "outputs": []
    },
    {
      "metadata": {
        "trusted": true
      },
      "cell_type": "code",
      "source": "import pandas as pd\nfrom IPython.display import YouTubeVideo\nfrom haversine import haversine",
      "execution_count": null,
      "outputs": []
    },
    {
      "metadata": {},
      "cell_type": "markdown",
      "source": "In the cell below we import the contents of the EmployeeList and Movie-Rating csv files into data frames."
    },
    {
      "metadata": {
        "trusted": true
      },
      "cell_type": "code",
      "source": "dfEmployeeList = pd.read_csv(\"EmployeeList.csv\")\ndfMovieRatings = pd.read_csv(\"Movie-Ratings.csv\")",
      "execution_count": null,
      "outputs": []
    },
    {
      "metadata": {},
      "cell_type": "markdown",
      "source": "[Back to Table of Contents](#top)"
    },
    {
      "metadata": {},
      "cell_type": "markdown",
      "source": "## Magics <a class=\"anchor\" id=\"magics\"></a>"
    },
    {
      "metadata": {},
      "cell_type": "markdown",
      "source": "Magic commands are designed to succinctly solve various common problems in standard data analysis. Magic commands come in two flavors: ***line magics***, which are denoted by a single % prefix and operate on a single line of input, and ***cell magics***, which are denoted by a double %% prefix and operate on multiple lines of input. (Jake VanderPlas November 2016. ***Python Data Science Handbook***. Retrieved from https://bit.ly/2KzrSZk)\n    \nThe first two cells below contains informational magics, the third cell below contains a line magic that is used to time a single line of code, and the fourth cell below contains a cell magic that is used to time all of the code in the cell that it is in."
    },
    {
      "metadata": {
        "trusted": true
      },
      "cell_type": "code",
      "source": "%magic",
      "execution_count": null,
      "outputs": []
    },
    {
      "metadata": {
        "trusted": true
      },
      "cell_type": "code",
      "source": "%lsmagic",
      "execution_count": null,
      "outputs": []
    },
    {
      "metadata": {
        "trusted": true
      },
      "cell_type": "code",
      "source": "%timeit L = [n ** 2 for n in range(500)]",
      "execution_count": null,
      "outputs": []
    },
    {
      "metadata": {
        "trusted": true
      },
      "cell_type": "code",
      "source": "%%timeit\n    L = []\n    for n in range(500):\n        L.append(n ** 2)",
      "execution_count": null,
      "outputs": []
    },
    {
      "metadata": {},
      "cell_type": "markdown",
      "source": "[Back to Table of Contents](#top)"
    },
    {
      "metadata": {},
      "cell_type": "markdown",
      "source": "## YouTube video about Widgets <a class=\"anchor\" id=\"widgets\"></a>\n\nWidgets are eventful python objects that have a representation in the browser, often as a control like a slider, textbox, etc.  (Jupyter Widgets. ***Simple Widget Introduction***. Retrieved from https://bit.ly/2YowKdr)\n\nBelow is a YouTube video that does a great job at introducing Jupyter widgets."
    },
    {
      "metadata": {
        "trusted": true
      },
      "cell_type": "code",
      "source": "YouTubeVideo('6SHnmho7zCs')",
      "execution_count": null,
      "outputs": []
    },
    {
      "metadata": {},
      "cell_type": "markdown",
      "source": "[Back to Table of Contents](#top)"
    },
    {
      "metadata": {},
      "cell_type": "markdown",
      "source": "## LaTeX <a class=\"anchor\" id=\"latex\"></a>\nLaTeX is a high-quality typesetting system that includes features designed for the production of scientific documentation. Below is a YouTube video that goes into depth about LaTeX."
    },
    {
      "metadata": {
        "trusted": true
      },
      "cell_type": "code",
      "source": "YouTubeVideo('BVlXXbBvzVo')",
      "execution_count": null,
      "outputs": []
    },
    {
      "metadata": {},
      "cell_type": "markdown",
      "source": "[Back to Table of Contents](#top)"
    },
    {
      "metadata": {},
      "cell_type": "markdown",
      "source": "## Strings <a class=\"anchor\" id=\"strings\"></a>\n\nString can be defined as a sequence of characters. The article ***String in Python*** contains a more detailed explanation and it can be found at https://bit.ly/33b302k. The cells below contains examples of how you can slice strings."
    },
    {
      "metadata": {},
      "cell_type": "markdown",
      "source": "We create a variable and assign it the value of \"atlanta\"."
    },
    {
      "metadata": {
        "trusted": true
      },
      "cell_type": "code",
      "source": "city = 'atlanta'",
      "execution_count": null,
      "outputs": []
    },
    {
      "metadata": {},
      "cell_type": "markdown",
      "source": "We use the ***len*** function to get the length of the ***city*** variable"
    },
    {
      "metadata": {
        "trusted": true
      },
      "cell_type": "code",
      "source": "len(city)",
      "execution_count": null,
      "outputs": []
    },
    {
      "metadata": {},
      "cell_type": "markdown",
      "source": "We subset the first 3 characters of the city variable. Note that the first position is inclusive but the second position is exclusive"
    },
    {
      "metadata": {
        "trusted": true
      },
      "cell_type": "code",
      "source": "city[0:3]",
      "execution_count": null,
      "outputs": []
    },
    {
      "metadata": {},
      "cell_type": "markdown",
      "source": "We subset the first 3 characters with an implicit 0 for the first position"
    },
    {
      "metadata": {
        "trusted": true
      },
      "cell_type": "code",
      "source": "city[:3]",
      "execution_count": null,
      "outputs": []
    },
    {
      "metadata": {},
      "cell_type": "markdown",
      "source": "We subset the city variable by starting at the beginning of the variable to the character that is 4 positions from the end"
    },
    {
      "metadata": {
        "trusted": true
      },
      "cell_type": "code",
      "source": "city[:-4]",
      "execution_count": null,
      "outputs": []
    },
    {
      "metadata": {},
      "cell_type": "markdown",
      "source": "We have are doing a more complicated subset. The first part of the subset is extracting the first 4 characters from the city variable. The ***2*** is telling python to grab every other character that it subsetting earlier."
    },
    {
      "metadata": {
        "trusted": true
      },
      "cell_type": "code",
      "source": "city[0:4:2]",
      "execution_count": null,
      "outputs": []
    },
    {
      "metadata": {},
      "cell_type": "markdown",
      "source": "We subset the city variable that starting at the character that is in the fifth position from the end and grabing all of the characters until it reaching the end of the variable."
    },
    {
      "metadata": {
        "trusted": true
      },
      "cell_type": "code",
      "source": "city[-5:]",
      "execution_count": null,
      "outputs": []
    },
    {
      "metadata": {},
      "cell_type": "markdown",
      "source": "We concatenate \"hot\" with the subset that we created above."
    },
    {
      "metadata": {
        "trusted": true
      },
      "cell_type": "code",
      "source": "\"hot\" + city[-5:]",
      "execution_count": null,
      "outputs": []
    },
    {
      "metadata": {},
      "cell_type": "markdown",
      "source": "We test to see if the string \"atl\" is in the city variable"
    },
    {
      "metadata": {
        "trusted": true
      },
      "cell_type": "code",
      "source": "\"atl\" in city ",
      "execution_count": null,
      "outputs": []
    },
    {
      "metadata": {},
      "cell_type": "markdown",
      "source": "We test to see if the string \"chi\" is in not the city variable"
    },
    {
      "metadata": {
        "trusted": true
      },
      "cell_type": "code",
      "source": "\"chi\" not in city",
      "execution_count": null,
      "outputs": []
    },
    {
      "metadata": {},
      "cell_type": "markdown",
      "source": "[Back to Table of Contents](#top)"
    },
    {
      "metadata": {},
      "cell_type": "markdown",
      "source": "## List <a class=\"anchor\" id=\"list\"></a>\n\nLists are just like the arrays, declared in other languages. Lists need not be homogeneous always which makes it a most powerful tool in Python. A single list may contain DataTypes like Integers, Strings, as well as Objects. Lists are also very useful for implementing stacks and queues. Lists are mutable, and hence, they can be altered even after their creation. (GeeksForGeeks. ***Python List***. Retrieved from https://bit.ly/2XnnvZz)\n\nBelow is a simple example of how to create an empty list, how to add elements to a list, how to subset a list, and then how to sort a list."
    },
    {
      "metadata": {
        "trusted": true
      },
      "cell_type": "code",
      "source": "x = []",
      "execution_count": null,
      "outputs": []
    },
    {
      "metadata": {
        "trusted": true
      },
      "cell_type": "code",
      "source": "x.append(\"Jill\")\nx.append(\"Jane\")\nx.append(\"John\")\nx.append(\"Joan\")\nx.append(\"James\")\nx",
      "execution_count": null,
      "outputs": []
    },
    {
      "metadata": {
        "trusted": true
      },
      "cell_type": "code",
      "source": "x[0:3]",
      "execution_count": null,
      "outputs": []
    },
    {
      "metadata": {
        "trusted": true
      },
      "cell_type": "code",
      "source": "x.sort()\nx",
      "execution_count": null,
      "outputs": []
    },
    {
      "metadata": {
        "trusted": true
      },
      "cell_type": "code",
      "source": "x.sort(reverse = True)\nx",
      "execution_count": null,
      "outputs": []
    },
    {
      "metadata": {},
      "cell_type": "markdown",
      "source": "[Back to Table of Contents](#top)"
    },
    {
      "metadata": {},
      "cell_type": "markdown",
      "source": "## Tuples <a class=\"anchor\" id=\"tuples\"></a>\n\nTuple is a collection of Python objects much like a list. The sequence of values stored in a tuple can be of any type, and they are indexed by integers. The important difference between a list and a tuple is that tuples are immutable. Also, Tuples are hashable whereas lists are not.  (GeeksForGeeks. ***Python Tuples***. Retrieved from https://bit.ly/2YLJLgn)"
    },
    {
      "metadata": {
        "trusted": true
      },
      "cell_type": "code",
      "source": "x = (33.7721, -84.3902)\nx",
      "execution_count": null,
      "outputs": []
    },
    {
      "metadata": {},
      "cell_type": "markdown",
      "source": "[Back to Table of Contents](#top)"
    },
    {
      "metadata": {},
      "cell_type": "markdown",
      "source": "## Dictionaries <a class=\"anchor\" id=\"dictionaries\"></a>\n\nDictionary in Python is an unordered collection of data values, used to store data values like a map, which unlike other Data Types that hold only single value as an element, Dictionary holds ***key:value*** pair. Key value is provided in the dictionary to make it more optimized. Each ***key-value*** pair in a Dictionary is separated by a colon :, whereas each key is separated by a ‘comma’.  (GeeksForGeeks. ***Python Dictionary***. Retrieved from https://bit.ly/2OFgMXO)\n        \nBelow is a dictionary that contains the top 5 scorers in the NBA for the 2018-2019 season. We illustrate some of the methods that are available to dictionaries and also show how you can use the ***in*** clause to test whether a key with a certain value exists in your dictionary."
    },
    {
      "metadata": {
        "trusted": true
      },
      "cell_type": "code",
      "source": "top_scorers = {\"Harden\":2818, \"George\":2159, \"Walker\":2102, \"Beal\":2099, \"Lillard\":2067}",
      "execution_count": null,
      "outputs": []
    },
    {
      "metadata": {
        "trusted": true
      },
      "cell_type": "code",
      "source": "len(top_scorers)",
      "execution_count": null,
      "outputs": []
    },
    {
      "metadata": {
        "trusted": true
      },
      "cell_type": "code",
      "source": "top_scorers.keys()",
      "execution_count": null,
      "outputs": []
    },
    {
      "metadata": {
        "trusted": true
      },
      "cell_type": "code",
      "source": "top_scorers.values()",
      "execution_count": null,
      "outputs": []
    },
    {
      "metadata": {
        "trusted": true
      },
      "cell_type": "code",
      "source": "top_scorers.items()",
      "execution_count": null,
      "outputs": []
    },
    {
      "metadata": {
        "trusted": true
      },
      "cell_type": "code",
      "source": "scorer = \"Curry\"\nscorer in top_scorers",
      "execution_count": null,
      "outputs": []
    },
    {
      "metadata": {
        "trusted": true
      },
      "cell_type": "code",
      "source": "scorer = \"Harden\"\nscorer in top_scorers",
      "execution_count": null,
      "outputs": []
    },
    {
      "metadata": {
        "trusted": true
      },
      "cell_type": "code",
      "source": "scorer = \"Curry\"\nscorer not in top_scorers",
      "execution_count": null,
      "outputs": []
    },
    {
      "metadata": {
        "trusted": true
      },
      "cell_type": "code",
      "source": "scorer = \"Harden\"\nscorer not in top_scorers",
      "execution_count": null,
      "outputs": []
    },
    {
      "metadata": {},
      "cell_type": "markdown",
      "source": "[Back to Table of Contents](#top)"
    },
    {
      "metadata": {},
      "cell_type": "markdown",
      "source": "## Custom Functions <a class=\"anchor\" id=\"custom-functions\"></a>\n\nBelow is a very simple example of a custom function. The point is to show how easy it is to construct a simple function."
    },
    {
      "metadata": {
        "trusted": true
      },
      "cell_type": "code",
      "source": "def MultiplyByTwo(x):\n    return x * 2",
      "execution_count": null,
      "outputs": []
    },
    {
      "metadata": {
        "trusted": true
      },
      "cell_type": "code",
      "source": "MultiplyByTwo(100)",
      "execution_count": null,
      "outputs": []
    },
    {
      "metadata": {},
      "cell_type": "markdown",
      "source": "[Back to Table of Contents](#top)"
    },
    {
      "metadata": {},
      "cell_type": "markdown",
      "source": "## Ternary Operators <a class=\"anchor\" id=\"ternary-operators\"></a>"
    },
    {
      "metadata": {},
      "cell_type": "markdown",
      "source": "Ternary operators also known as conditional expressions are operators that evaluate something based on a condition being true or false. It was added to Python in version 2.5. It simply allows to test a condition in a single line replacing the multiline if-else making the code compact. (GeeksForGeeks. ***Ternary Operator in Python***. Retrieved from https://bit.ly/2YwywcE)\n\nThe example below starts off by creating two variables, x and y, and assigns the values 10 and 20 to them respectively. In the next cell a ternary operator is used to set the value of the max_value variable. The ternary operatory returns the value of the variable that represents the bigger number."
    },
    {
      "metadata": {
        "trusted": true
      },
      "cell_type": "code",
      "source": "x, y = 10, 20",
      "execution_count": null,
      "outputs": []
    },
    {
      "metadata": {
        "trusted": true
      },
      "cell_type": "code",
      "source": "max_value = x if x > y else y\nmax_value",
      "execution_count": null,
      "outputs": []
    },
    {
      "metadata": {},
      "cell_type": "markdown",
      "source": "The example below shows a more traditional method. Notice how succint the code is in the ternary example compared to the example below."
    },
    {
      "metadata": {
        "trusted": true
      },
      "cell_type": "code",
      "source": "if x > y:\n    max_value = x\nelse:\n    max_value = y\n\nmax_value",
      "execution_count": null,
      "outputs": []
    },
    {
      "metadata": {},
      "cell_type": "markdown",
      "source": "[Back to Table of Contents](#top)"
    },
    {
      "metadata": {},
      "cell_type": "markdown",
      "source": "## List Comprehensions <a class=\"anchor\" id=\"list-comprehensions\"></a>\n\nList comprehensions provide a concise way to create lists. It consists of brackets containing an expression followed by a ***for*** clause, then zero or more ***for*** or ***if*** clauses. The expressions can be anything, meaning you can put in all kinds of objects in lists. (PythonForBeginners. ***List Comprehensions in Python***. Retrieved from https://bit.ly/2Q8zFi4)\n\nThe first cell shows an example of using a list comprehension to square all of the numbers in the ***numbers*** list. The second example shows how you can use list expression with a ***if*** statement to determine what elements you want to include in your new list."
    },
    {
      "metadata": {
        "trusted": true
      },
      "cell_type": "code",
      "source": "numbers = [2, 3, 4, 5]\nsquares = [number ** 2 for number in numbers]\nsquares",
      "execution_count": null,
      "outputs": []
    },
    {
      "metadata": {
        "trusted": true
      },
      "cell_type": "code",
      "source": "names = ['ryan', 'edward', 'wade']\nupper_case = [name.upper() for name in names if len(name) == 4]\nupper_case",
      "execution_count": null,
      "outputs": []
    },
    {
      "metadata": {},
      "cell_type": "markdown",
      "source": "[Back to Table of Contents](#top)"
    },
    {
      "metadata": {},
      "cell_type": "markdown",
      "source": "## YouTube video about Regular Expressions <a class=\"anchor\" id=\"regular-expressions\"></a>\n\nA regular expression is a sequence of characters that define a search pattern. The video below is a great introduction to regular expressions in Python."
    },
    {
      "metadata": {
        "trusted": true
      },
      "cell_type": "code",
      "source": "YouTubeVideo('kWyoYtvJpe4')",
      "execution_count": null,
      "outputs": []
    },
    {
      "metadata": {},
      "cell_type": "markdown",
      "source": "[Back to Table of Contents](#top)"
    },
    {
      "metadata": {},
      "cell_type": "markdown",
      "source": "## Intro to Pandas <a class=\"anchor\" id=\"pandas\"></a>"
    },
    {
      "metadata": {},
      "cell_type": "markdown",
      "source": "Many methods are available to you when you load your data into a pandas data frame. Below are examples of a few of them. "
    },
    {
      "metadata": {
        "trusted": true
      },
      "cell_type": "code",
      "source": "dfMovieRatings.head()",
      "execution_count": null,
      "outputs": []
    },
    {
      "metadata": {
        "trusted": true
      },
      "cell_type": "code",
      "source": "dfMovieRatings.columns",
      "execution_count": null,
      "outputs": []
    },
    {
      "metadata": {
        "trusted": true
      },
      "cell_type": "code",
      "source": "dfMovieRatings.shape",
      "execution_count": null,
      "outputs": []
    },
    {
      "metadata": {
        "trusted": true
      },
      "cell_type": "code",
      "source": "dfMovieRatings.Genre.unique()",
      "execution_count": null,
      "outputs": []
    },
    {
      "metadata": {
        "trusted": true
      },
      "cell_type": "code",
      "source": "TotalBudget = dfMovieRatings[\"Budget (million $)\"].sum()\nTotalBudget",
      "execution_count": null,
      "outputs": []
    },
    {
      "metadata": {
        "trusted": true
      },
      "cell_type": "markdown",
      "source": "Pandas offers a succint but powerful methods to subset rows and columns from your data frame. In this section we will focus on two methods in particular, the ***loc*** and ***iloc*** method. The ***loc*** method subset rows and columns based on labels and the ***iloc*** method subset rows and columns based on integer position. We will start with eamples of the loc method. Below are descriptions of what the cells are doing below:"
    },
    {
      "metadata": {},
      "cell_type": "markdown",
      "source": "In the cell below we are returning the values of all of the columns in the first row. The output is returned as a pandas series because we are only returning one row."
    },
    {
      "metadata": {
        "trusted": true
      },
      "cell_type": "code",
      "source": "FirstRow = dfMovieRatings.loc[0, :]\nFirstRow",
      "execution_count": null,
      "outputs": []
    },
    {
      "metadata": {},
      "cell_type": "markdown",
      "source": "In the cell we are returning all of the columns in the first 3 rows. "
    },
    {
      "metadata": {
        "trusted": true
      },
      "cell_type": "code",
      "source": "SubsetRows = dfMovieRatings.loc[0:3, :]\nSubsetRows",
      "execution_count": null,
      "outputs": []
    },
    {
      "metadata": {},
      "cell_type": "markdown",
      "source": "In the cell below we are returning the \"Film\" and \"Genre\" columns for all rows."
    },
    {
      "metadata": {
        "trusted": true
      },
      "cell_type": "code",
      "source": "SubsetColumnsUsingList = dfMovieRatings.loc[:,[\"Film\", \"Genre\"]]\nSubsetColumnsUsingList.head()",
      "execution_count": null,
      "outputs": []
    },
    {
      "metadata": {},
      "cell_type": "markdown",
      "source": "In the cell below we are returning the columns from the \"Genre\" column to the \"Year of release\" for all of the rows"
    },
    {
      "metadata": {
        "trusted": true
      },
      "cell_type": "code",
      "source": "SubsetColumnsBetweenTwoColumns = dfMovieRatings.loc[:, \"Genre\":\"Year of release\"]\nSubsetColumnsBetweenTwoColumns.head()",
      "execution_count": null,
      "outputs": []
    },
    {
      "metadata": {},
      "cell_type": "markdown",
      "source": "In the cell below we are returning all of the columns where the rows in the \"Genre\" column are equal to \"Comedy\""
    },
    {
      "metadata": {
        "trusted": true
      },
      "cell_type": "code",
      "source": "SubsetRowsBasedOnBooleanCondition = dfMovieRatings.loc[df.Genre =='Comedy', :]\nSubsetRowsBasedOnBooleanCondition.head()",
      "execution_count": null,
      "outputs": []
    },
    {
      "metadata": {},
      "cell_type": "markdown",
      "source": "In the cell below we are returning all of the columns where the rows in the \"Genre\" column are equal to \"Comedy\" or \"Action\" "
    },
    {
      "metadata": {
        "trusted": true
      },
      "cell_type": "code",
      "source": "SubsetRowsBasedOnMulitpleBooleanCondition = dfMovieRatings.loc[(df.Genre =='Comedy') | (df.Genre =='Action'), :]\nSubsetRowsBasedOnMulitpleBooleanCondition.head()",
      "execution_count": null,
      "outputs": []
    },
    {
      "metadata": {},
      "cell_type": "markdown",
      "source": "In the cells below we are subsetting rows and columns using the ***iloc*** method. This method subsets rows and columns based on integer position. Here are descriptions of what is going on in each cell:"
    },
    {
      "metadata": {},
      "cell_type": "markdown",
      "source": "In the cell below we are returning all of the columns in the first 3 rows of the data frame. Note that unlike the loc method, the iloc method second position is not inclusive. So in this example we grab the rows starting at row zero but stoping before row 3 which results in a data set of 3 rows.\n"
    },
    {
      "metadata": {
        "trusted": true
      },
      "cell_type": "code",
      "source": "SubsetRowsOneThroughThree = dfMovieRatings.iloc[0:3,:]\nSubsetRowsOneThroughThree",
      "execution_count": null,
      "outputs": []
    },
    {
      "metadata": {},
      "cell_type": "markdown",
      "source": "In the cell below we are returning all of the columns in the last 3 rows."
    },
    {
      "metadata": {
        "trusted": true,
        "scrolled": true
      },
      "cell_type": "code",
      "source": "SubsetLastThreeRows = dfMovieRatings.iloc[-3:,:]\nSubsetLastThreeRows",
      "execution_count": null,
      "outputs": []
    },
    {
      "metadata": {},
      "cell_type": "markdown",
      "source": "In the cell below we are returning the first, third, and fifth columns for all rows. Remember python is a zero based system so the first position starts at zero and not at 1."
    },
    {
      "metadata": {
        "trusted": true
      },
      "cell_type": "code",
      "source": "SubsetColumnsOneThreeFive = dfMovieRatings.iloc[:,[0,2,4]]\nSubsetColumnsOneThreeFive.head()",
      "execution_count": null,
      "outputs": []
    },
    {
      "metadata": {},
      "cell_type": "markdown",
      "source": "In the cell below we are returning column 1 to column 3 for all rows."
    },
    {
      "metadata": {
        "trusted": true
      },
      "cell_type": "code",
      "source": "SubsetColumnsOneThroughThree = dfMovieRatings.iloc[:,0:3]\nSubsetColumnsOneThroughThree.head()",
      "execution_count": null,
      "outputs": []
    },
    {
      "metadata": {
        "trusted": true
      },
      "cell_type": "markdown",
      "source": "You can also use pandas to group rows together in your data frame and apply aggregations functions to them. Below is a simple ***groupby*** example where we group the data frame by the ***Genre*** and ***Year of release*** columns and then sum up the ***Budget (million $)*** column for each distinct combination of that grouping. \n\nThe code in the first cell below groups the rows by ***Genre*** and ***Year of release*** then sums the ***Budget (million $)*** column based on that grouping. That action returns a ***DataFrameGroupBy*** object and not the data frame object that it is based on. The code in the next cell shows that the DataFrameGroupBy object that was created has a index that is based on the ***Genre*** and ***Year of release*** column. We want to remove that index and convert the ***DataFrameGroupBy*** object to a regular data frame. We can accomplish with the code in the next cell via the reset_index method. The reset_index method converts the index values to columns and creates a new sequential index.\n"
    },
    {
      "metadata": {
        "trusted": true
      },
      "cell_type": "code",
      "source": "GroupbyExample = dfMovieRatings.groupby([\"Genre\",\"Year of release\"], as_index = \"False\")['Budget (million $)'].sum()\nprint(GroupbyExample.head())",
      "execution_count": null,
      "outputs": []
    },
    {
      "metadata": {
        "trusted": true
      },
      "cell_type": "code",
      "source": "list(GroupbyExample.index.values)[:6]",
      "execution_count": null,
      "outputs": []
    },
    {
      "metadata": {
        "trusted": true
      },
      "cell_type": "code",
      "source": "GroupbyExample = GroupbyExample.reset_index()\nGroupbyExample.head(6)",
      "execution_count": null,
      "outputs": []
    },
    {
      "metadata": {},
      "cell_type": "markdown",
      "source": "[Back to Table of Contents](#top)"
    },
    {
      "metadata": {},
      "cell_type": "markdown",
      "source": "## Real World Example <a class=\"anchor\" id=\"rwe\"></a>"
    },
    {
      "metadata": {},
      "cell_type": "markdown",
      "source": "We will conclude with a real world example. We will create a function that uses the ***haversine function*** from the ***haversine*** library to calculate the distance between two geographical points. The ***haversine*** function requires two parameters, a tuple that contains the latitude and longitude of the starting location and another tuple that contains the latitude and longitude of the ending location. We need to reshape the dfEmployeeList data in order to be able to use the Haversine function. In the example below we do that using a custom function. Let's unpack what going on in the 2 cells below first starting with second cell that calls the custom function then we will explain the custom function. Here are the steps:\n\n1. In the second cell below we call the custom function, useHaversine, using a lambda function. A lambda function is an anonymous function in Python that is defined using the keyword ***lambda***. The can be applied to columns or the entire data frame to create calculated columns. In the example below we are using a lambda function against each row of the dfEmployeelist data frame. We do so by using the ***apply*** method against the dfEmployeeList and setting the axis parameter to 1. The alias ***row*** is used to reference the row in our lambda function.\n1. The lambda function passes the entire row to the usehaversine function. The useHaversine function will take the row passed to it and extract the information from it that it needs.\n1. The useHaversine function takes the row that was passed to it and builds a tuple of the latitude and longitude of the starting location then does the same for the ending location. It uses those tuples as the first and second parameter of the ***haversine function*** from the ***haversine*** library. The ***unit*** parameter is set to \"mi\" because we want the return value to be in miles.\n\n"
    },
    {
      "metadata": {
        "trusted": true
      },
      "cell_type": "code",
      "source": "dfEmployeeList.columns",
      "execution_count": null,
      "outputs": []
    },
    {
      "metadata": {
        "trusted": true
      },
      "cell_type": "code",
      "source": "def useHaversine(row):\n    location_one = (row[\"lat_EmployeeAddress\"], row[\"lon_EmployeeAddress\"])\n    location_two = (row[\"lat_TerminalAddress\"], row[\"lon_TerminalAddress\"])\n    return haversine(location_one, location_two, unit=\"mi\")",
      "execution_count": null,
      "outputs": []
    },
    {
      "metadata": {
        "trusted": true
      },
      "cell_type": "code",
      "source": "dfEmployeeList[\"Haversine Function\"] = dfEmployeeList.apply(lambda row: useHaversine(row), axis=1)\ndfEmployeeList",
      "execution_count": null,
      "outputs": []
    },
    {
      "metadata": {},
      "cell_type": "markdown",
      "source": "[Back to Table of Contents](#top)"
    },
    {
      "metadata": {
        "trusted": true
      },
      "cell_type": "markdown",
      "source": "## Resources <a class=\"anchor\" id=\"resources\"></a>\n\nBelow are some good resources that covers important topics in Python from a data analytics standpoint. \n\n* Python for Data Analysis Notebook = https://notebooks.azure.com/wesm/projects/python-for-data-analysis\n* Conda Cheat Sheet = https://docs.conda.io/projects/conda/en/4.6.0/_downloads/52a95608c49671267e40c689e0bc00ca/conda-cheatsheet.pdf\n* Pep explained = https://www.python.org/dev/peps/pep-0001/#what-is-a-pep\n* PEP8 = https://pep8.org/\n* GitHub tutorial = https://guides.github.com/activities/hello-world/\n* Jupyter Lab Tutorial = https://buildmedia.readthedocs.org/media/pdf/jupyterlab/stable/jupyterlab.pdf\n* Basic Command Prompt commands = https://www.digitalcitizen.life/command-prompt-how-use-basic-commands\n* Python Data Structures = http://thomas-cokelaer.info/tutorials/python/data_structures.html\n* Data School YouTube Channel = https://www.youtube.com/channel/UCnVzApLJE2ljPZSeQylSEyg"
    },
    {
      "metadata": {
        "trusted": true
      },
      "cell_type": "markdown",
      "source": "[Back to Table of Contents](#top)"
    },
    {
      "metadata": {
        "trusted": true
      },
      "cell_type": "code",
      "source": "",
      "execution_count": null,
      "outputs": []
    }
  ],
  "metadata": {
    "kernelspec": {
      "name": "python36",
      "display_name": "Python 3.6",
      "language": "python"
    },
    "language_info": {
      "mimetype": "text/x-python",
      "nbconvert_exporter": "python",
      "name": "python",
      "pygments_lexer": "ipython3",
      "version": "3.6.6",
      "file_extension": ".py",
      "codemirror_mode": {
        "version": 3,
        "name": "ipython"
      }
    }
  },
  "nbformat": 4,
  "nbformat_minor": 2
}