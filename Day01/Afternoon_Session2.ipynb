{
 "cells": [
  {
   "cell_type": "markdown",
   "metadata": {},
   "source": [
    "# Afternoon Session 2\n",
    "\n",
    "This session will focus on gaining pratical experience writing python through the use of some moderately challenging coding problems from [Project Euler](https://projecteuler.net/about)\n",
    "\n",
    "But before we get into challenging coding problems, lets review some of the basics from this morning"
   ]
  },
  {
   "cell_type": "markdown",
   "metadata": {},
   "source": [
    "## addition, mulitplication, powers, modulo"
   ]
  },
  {
   "cell_type": "code",
   "execution_count": 4,
   "metadata": {},
   "outputs": [
    {
     "data": {
      "text/plain": [
<<<<<<< Updated upstream
       "1"
=======
       "3"
>>>>>>> Stashed changes
      ]
     },
     "execution_count": 4,
     "metadata": {},
     "output_type": "execute_result"
    }
   ],
   "source": [
    "a = 3\n",
<<<<<<< Updated upstream
    "b = 2\n",
    "\n",
    "a +b\n",
    "\n",
    "a*b\n",
=======
    "b = 4\n",
    "\n",
    "a + b\n",
    "\n",
    "a * b\n",
>>>>>>> Stashed changes
    "\n",
    "a ** b\n",
    "\n",
    "a % b"
   ]
  },
  {
   "cell_type": "markdown",
   "metadata": {},
   "source": [
    "## loops"
   ]
  },
  {
   "cell_type": "code",
<<<<<<< Updated upstream
   "execution_count": 5,
=======
   "execution_count": 7,
>>>>>>> Stashed changes
   "metadata": {},
   "outputs": [
    {
     "name": "stdout",
     "output_type": "stream",
     "text": [
      "1\n",
      "2\n",
      "3\n",
<<<<<<< Updated upstream
      "4\n"
=======
      "4\n",
      "5\n",
      "6\n",
      "7\n",
      "8\n",
      "9\n",
      "10\n"
>>>>>>> Stashed changes
     ]
    }
   ],
   "source": [
<<<<<<< Updated upstream
    "for i in [1, 2, 3, 4]:\n",
    "    print(i)"
=======
    "for i in [1,2,3,4]:\n",
    "    print(i)\n",
    "    \n",
    "n = 4;\n",
    "while (n < 10):\n",
    "    n = n + 1\n",
    "    print(n)    "
>>>>>>> Stashed changes
   ]
  },
  {
   "cell_type": "markdown",
   "metadata": {},
   "source": [
    "## indexing"
   ]
  },
  {
   "cell_type": "code",
<<<<<<< Updated upstream
   "execution_count": 6,
=======
   "execution_count": 12,
>>>>>>> Stashed changes
   "metadata": {},
   "outputs": [
    {
     "data": {
      "text/plain": [
<<<<<<< Updated upstream
       "'afsd'"
      ]
     },
     "execution_count": 6,
=======
       "[2, 4, 6, 8, 10]"
      ]
     },
     "execution_count": 12,
>>>>>>> Stashed changes
     "metadata": {},
     "output_type": "execute_result"
    }
   ],
   "source": [
<<<<<<< Updated upstream
    "l = [1,2,3,4]\n",
    "\n",
    "l[3]\n",
    "\n",
    "k = 'afsddsf'\n",
    "k[0:4]"
=======
    "index = [1,2,3,4,5,6,7,8,9,10]\n",
    "\n",
    "index[:4]\n",
    "\n",
    "index[0]\n",
    "\n",
    "index[1:10:2]"
>>>>>>> Stashed changes
   ]
  },
  {
   "cell_type": "markdown",
   "metadata": {},
   "source": [
    "## ranges"
   ]
  },
  {
   "cell_type": "code",
<<<<<<< Updated upstream
   "execution_count": 7,
=======
   "execution_count": 14,
>>>>>>> Stashed changes
   "metadata": {},
   "outputs": [
    {
     "name": "stdout",
     "output_type": "stream",
     "text": [
      "1\n",
      "2\n",
      "3\n",
      "4\n",
      "5\n"
     ]
    }
   ],
   "source": [
    "for i in range(1,6):\n",
    "    print(i)"
   ]
  },
  {
   "cell_type": "markdown",
   "metadata": {},
   "source": [
    "## conditionals"
   ]
  },
  {
   "cell_type": "code",
<<<<<<< Updated upstream
   "execution_count": 11,
=======
   "execution_count": 17,
>>>>>>> Stashed changes
   "metadata": {},
   "outputs": [
    {
     "name": "stdout",
     "output_type": "stream",
     "text": [
<<<<<<< Updated upstream
      "k is 3\n"
=======
      "k is 2\n"
>>>>>>> Stashed changes
     ]
    }
   ],
   "source": [
<<<<<<< Updated upstream
    "k = 3\n",
    "\n",
    "if k == 2:\n",
    "    print('k is 2')\n",
    "elif k == 3:\n",
    "    print('k is 3')"
=======
    "k = 2\n",
    "if k == 2:\n",
    "    print(\"k is 2\")\n",
    "elif k == 3:\n",
    "    print(\"k is 3\")"
>>>>>>> Stashed changes
   ]
  },
  {
   "cell_type": "markdown",
   "metadata": {},
   "source": [
    "## Problem 1\n",
    "\n",
    "If we list all the natural numbers below 10 that are multiples of 3 or 5, we get 3, 5, 6 and 9. The sum of these multiples is 23.\n",
    "\n",
    "Find the sum of all the multiples of 3 or 5 below 1000. (Answer: 233168)"
   ]
  },
  {
   "cell_type": "code",
<<<<<<< Updated upstream
   "execution_count": 12,
=======
   "execution_count": 22,
>>>>>>> Stashed changes
   "metadata": {},
   "outputs": [
    {
     "name": "stdout",
     "output_type": "stream",
     "text": [
      "233168\n"
     ]
    }
   ],
   "source": [
    "total = 0\n",
    "\n",
    "for i in range(1000):\n",
    "    if i % 3 == 0:\n",
    "        total += i\n",
    "    elif i % 5 == 0:\n",
<<<<<<< Updated upstream
    "        total += i \n",
=======
    "        total += i\n",
    "        \n",
>>>>>>> Stashed changes
    "print(total)"
   ]
  },
  {
   "cell_type": "markdown",
   "metadata": {},
   "source": [
    "# Problem 2\n",
    "\n",
    "\n",
    "Each new term in the Fibonacci sequence is generated by adding the previous two terms. By starting with 1 and 2, the first 10 terms will be:\n",
    "\n",
    "1, 2, 3, 5, 8, 13, 21, 34, 55, 89, ...\n",
    "\n",
    "By considering the terms in the Fibonacci sequence whose values do not exceed four million, find the sum of the even-valued terms. (Answer: 4613732)"
   ]
  },
  {
   "cell_type": "code",
<<<<<<< Updated upstream
   "execution_count": 14,
=======
   "execution_count": 30,
>>>>>>> Stashed changes
   "metadata": {},
   "outputs": [
    {
     "name": "stdout",
     "output_type": "stream",
     "text": [
      "4613732\n"
     ]
    }
   ],
   "source": [
    "fib = 1\n",
    "fib_total = 0\n",
<<<<<<< Updated upstream
=======
    "\n",
>>>>>>> Stashed changes
    "fib_tmp = 0\n",
    "fib_prev = 0\n",
    "\n",
    "while True:\n",
    "    if fib > 4 * 10 ** 6:\n",
    "        break\n",
    "    fib_tmp = fib\n",
    "    fib = fib + fib_prev\n",
    "    fib_prev = fib_tmp\n",
<<<<<<< Updated upstream
    "    if fib % 2 == 0:\n",
    "        fib_total += fib\n",
=======
    "    \n",
    "    if fib % 2 == 0: \n",
    "        fib_total += fib\n",
    "\n",
>>>>>>> Stashed changes
    "print(fib_total)"
   ]
  },
  {
   "cell_type": "markdown",
   "metadata": {},
   "source": [
    "# Problem 3\n",
    "\n",
    "\n",
    "The prime factors of 13195 are 5, 7, 13 and 29.\n",
    "\n",
    "What is the largest prime factor of the number 600851475143? (Answer: 6857)"
   ]
  },
  {
   "cell_type": "code",
<<<<<<< Updated upstream
   "execution_count": 17,
   "metadata": {},
   "outputs": [
    {
     "name": "stdout",
     "output_type": "stream",
     "text": [
      "6857\n"
     ]
    }
   ],
   "source": [
    "n = 600851475143\n",
    "factor = 2\n",
    "factors = []\n",
    "\n",
    "while n != 1:\n",
    "    if n % factor == 0:\n",
    "        isprime = True\n",
    "        for i in range(2, factor):\n",
    "            if factor % i == 0:\n",
    "                isprime = False\n",
    "        if isprime == True:\n",
    "            n /= factor\n",
    "            factors.append(factor)\n",
    "            factor = 2\n",
    "        else:\n",
    "            factor += 1\n",
    "    else:\n",
    "        factor += 1\n",
    "print(max(factors))"
   ]
  },
  {
   "cell_type": "code",
   "execution_count": null,
=======
   "execution_count": 13,
>>>>>>> Stashed changes
   "metadata": {},
   "outputs": [
    {
     "name": "stdout",
     "output_type": "stream",
     "text": [
      "6857\n"
     ]
    },
    {
     "data": {
      "text/plain": [
       "'\\nmax_prime = 0\\nodd = 3\\ni = 1\\n\\nwhile True:\\n    if i > 600851475143:\\n        break\\n    \\n    if i % 2 != 0:\\n        odd = i\\n    \\n        if 600851475143 % odd == 0:\\n            max_prime = odd\\n    \\n    i += 1\\n    \\nprint(max_prime)\\n'"
      ]
     },
     "execution_count": 13,
     "metadata": {},
     "output_type": "execute_result"
    }
   ],
   "source": [
    "n = 600851475143\n",
    "factor = 2\n",
    "factors = []\n",
    "\n",
    "while n != 1:\n",
    "    if n % factor == 0:\n",
    "        isprime = True\n",
    "        for x in range(2, factor):\n",
    "            if factor % int(i) == 0:\n",
    "                isprime = False\n",
    "        if isprime:\n",
    "            n /= factor\n",
    "            factors.append(factor)\n",
    "            factor = 2\n",
    "        else:\n",
    "            factor += 1\n",
    "    else:\n",
    "        factor += 1\n",
    "            \n",
    "print(max(factors))\n",
    "\n",
    "\n",
    "\n",
    "# my poor attempt:\n",
    "\"\"\"\n",
    "max_prime = 0\n",
    "odd = 3\n",
    "i = 1\n",
    "\n",
    "while True:\n",
    "    if i > 600851475143:\n",
    "        break\n",
    "    \n",
    "    if i % 2 != 0:\n",
    "        odd = i\n",
    "    \n",
    "        if 600851475143 % odd == 0:\n",
    "            max_prime = odd\n",
    "    \n",
    "    i += 1\n",
    "    \n",
    "print(max_prime)\n",
    "\"\"\"\n"
   ]
  },
  {
   "cell_type": "markdown",
   "metadata": {},
   "source": [
    "# Problem 4\n",
    "\n",
    "\n",
    "A palindromic number reads the same both ways. The largest palindrome made from the product of two 2-digit numbers is 9009 = 91 × 99.\n",
    "\n",
    "Find the largest palindrome made from the product of two 3-digit numbers. (Answer: 906609)\n"
   ]
  },
  {
   "cell_type": "code",
   "execution_count": 12,
   "metadata": {},
   "outputs": [
    {
     "name": "stdout",
     "output_type": "stream",
     "text": [
      "\n"
     ]
    }
   ],
   "source": [
    "max_pal = 101\n",
    "#for digit in range(100, 999):"
   ]
  },
  {
   "cell_type": "markdown",
   "metadata": {},
   "source": [
    "# Problem 5\n",
    "\n",
    "\n",
    "\n",
    "2520 is the smallest number that can be divided by each of the numbers from 1 to 10 without any remainder.\n",
    "\n",
    "What is the smallest positive number that is evenly divisible by all of the numbers from 1 to 20? (Answer: 232792560)\n"
   ]
  },
  {
   "cell_type": "code",
   "execution_count": 2,
   "metadata": {},
   "outputs": [
    {
     "data": {
      "text/plain": [
       "'\\nwhile True:\\n    if (x % 2 != 0):\\n        x += 1\\n        continue\\n    if (x % 3 != 0):\\n        x += 1\\n        continue\\n    \\n    if (x % 4 != 0):\\n        x += 1\\n        continue\\n    if (x % 5 != 0):\\n        x += 1\\n        continue\\n    if (x % 6 != 0):\\n        x += 1\\n        continue\\n    if (x % 7 != 0):\\n        x += 1\\n        continue\\n    if (x % 9 != 0):\\n        x += 1\\n        continue\\n    if (x % 10 != 0):\\n        x += 1\\n        continue       \\n        \\n    if x > 2520:\\n        print(x)\\n        break\\n'"
      ]
     },
     "execution_count": 2,
     "metadata": {},
     "output_type": "execute_result"
    }
   ],
   "source": [
    "\"\"\"\n",
    "while True:\n",
    "    if (x % 2 != 0):\n",
    "        x += 1\n",
    "        continue\n",
    "    if (x % 3 != 0):\n",
    "        x += 1\n",
    "        continue\n",
    "    \n",
    "    if (x % 4 != 0):\n",
    "        x += 1\n",
    "        continue\n",
    "    if (x % 5 != 0):\n",
    "        x += 1\n",
    "        continue\n",
    "    if (x % 6 != 0):\n",
    "        x += 1\n",
    "        continue\n",
    "    if (x % 7 != 0):\n",
    "        x += 1\n",
    "        continue\n",
    "    if (x % 9 != 0):\n",
    "        x += 1\n",
    "        continue\n",
    "    if (x % 10 != 0):\n",
    "        x += 1\n",
    "        continue       \n",
    "        \n",
    "    if x > 2520:\n",
    "        print(x)\n",
    "        break\n",
    "\"\"\""
   ]
  },
  {
   "cell_type": "code",
   "execution_count": null,
   "metadata": {},
   "outputs": [],
   "source": []
  }
 ],
 "metadata": {
  "kernelspec": {
   "display_name": "Python 3",
   "language": "python",
   "name": "python3"
  },
  "language_info": {
   "codemirror_mode": {
    "name": "ipython",
    "version": 3
   },
   "file_extension": ".py",
   "mimetype": "text/x-python",
   "name": "python",
   "nbconvert_exporter": "python",
   "pygments_lexer": "ipython3",
   "version": "3.6.5"
  }
 },
 "nbformat": 4,
 "nbformat_minor": 2
}
