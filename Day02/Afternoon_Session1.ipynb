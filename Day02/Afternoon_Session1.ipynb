{
 "cells": [
  {
   "cell_type": "markdown",
   "metadata": {},
   "source": [
    "# Day 2 Afternoon Session 1\n",
    "\n",
    "Today we'll be going over some of the advanced libraries in python. The main topics will be the linear algebra library `numpy`, the plotting library `matplotlib`, and the scientific computing package `scipy`"
   ]
  },
  {
   "cell_type": "code",
   "execution_count": 2,
   "metadata": {},
   "outputs": [],
   "source": [
    "%matplotlib inline\n",
    "import matplotlib.pyplot as plt\n",
    "from IPython.display import Image"
   ]
  },
  {
   "cell_type": "markdown",
   "metadata": {},
   "source": [
    "## Numpy\n",
    "\n",
    "Numpy is not part of the \"standard library\", but it might as well be for engineers. Numpy is Python's answer to Matlab - the \"back end\" is implemented in C so its performance is very fast (comparable to Matlab)."
   ]
  },
  {
   "cell_type": "code",
   "execution_count": 1,
   "metadata": {},
   "outputs": [],
   "source": [
    "import numpy as np"
   ]
  },
  {
   "cell_type": "markdown",
   "metadata": {},
   "source": [
    "## Creating numpy arrays\n",
    "\n",
    "There are a number of ways to initialize new numpy arrays, for example from\n",
    "\n",
    "* a Python list or tuples\n",
    "* using functions that are dedicated to generating numpy arrays, such as arange, linspace, etc.\n",
    "* reading data from files\n"
   ]
  },
  {
   "cell_type": "code",
   "execution_count": 6,
   "metadata": {},
   "outputs": [
    {
     "name": "stdout",
     "output_type": "stream",
     "text": [
      "[1. 2. 3. 4.]\n",
      "[[1 2]\n",
      " [3 4]]\n"
     ]
    }
   ],
   "source": [
    "v = np.array([1,2,3,4], dtype = 'float64')\n",
    "print(v)\n",
    "\n",
    "m = np.array([[1,2],[3,4]])\n",
    "print(m)"
   ]
  },
  {
   "cell_type": "markdown",
   "metadata": {},
   "source": [
    "## Math With Numpy Arrays"
   ]
  },
  {
   "cell_type": "code",
   "execution_count": null,
   "metadata": {},
   "outputs": [],
   "source": []
  },
  {
   "cell_type": "markdown",
   "metadata": {},
   "source": [
    "It is often more efficient to generate large arrays instead of creating them from lists. There are a few useful functions for this in numpy:\n",
    "\n",
    "* `np.arange` - create a range with a specified step size (endpoints not included)\n",
    "* `np.linspace` - create a range with a specified number of points (endpoints *are* included)\n",
    "* `np.logspace` - create a range with a specified number of points in log space (endpoints *are* included)\n",
    "* `np.mgrid` - create points on a multi-dimensional grid (similar to meshgrid in matlab)\n",
    "* `np.random.rand` - create random number matrix from a uniform distribution\n",
    "* `np.random.randn` - create random number matrix from a standard normal distribution\n",
    "* `np.zeros` - create a matrix of zeros\n",
    "* `np.ones` - create a matrix of ones\n",
    "* `np.eye` - create identity matrix\n",
    "\n",
    "be sure to check the [manual](https://docs.scipy.org/doc/numpy/reference/) if you get confused"
   ]
  },
  {
   "cell_type": "code",
   "execution_count": 93,
   "metadata": {},
   "outputs": [],
   "source": [
    "x = np.linspace(1,10,40)"
   ]
  },
  {
   "cell_type": "markdown",
   "metadata": {},
   "source": [
    "## index slicing"
   ]
  },
  {
   "cell_type": "code",
   "execution_count": null,
   "metadata": {},
   "outputs": [],
   "source": []
  },
  {
   "cell_type": "markdown",
   "metadata": {},
   "source": [
    "## Matrix Operations"
   ]
  },
  {
   "cell_type": "code",
   "execution_count": 9,
   "metadata": {},
   "outputs": [
    {
     "data": {
      "text/plain": [
       "array([0, 0, 1])"
      ]
     },
     "execution_count": 9,
     "metadata": {},
     "output_type": "execute_result"
    }
   ],
   "source": [
    "a = np.array([1,2])\n",
    "b = np.array([[3,4],\n",
    "              [5,6]])\n",
    "\n",
    "j = np.array([1,0,0])\n",
    "k = np.array([0,1,0])\n",
    "\n",
    "np.cross(j,k)"
   ]
  },
  {
   "cell_type": "markdown",
   "metadata": {},
   "source": [
    "## Solving Linear Problems\n",
    "\n",
    "ax = b"
   ]
  },
  {
   "cell_type": "code",
   "execution_count": 10,
   "metadata": {},
   "outputs": [
    {
     "data": {
      "text/plain": [
       "array([[3],\n",
       "       [4],\n",
       "       [5],\n",
       "       [6]])"
      ]
     },
     "execution_count": 10,
     "metadata": {},
     "output_type": "execute_result"
    }
   ],
   "source": [
    "b.reshape(4,1)"
   ]
  },
  {
   "cell_type": "markdown",
   "metadata": {},
   "source": [
    "# Reshaping Arrays"
   ]
  },
  {
   "cell_type": "code",
   "execution_count": null,
   "metadata": {},
   "outputs": [],
   "source": []
  },
  {
   "cell_type": "markdown",
   "metadata": {},
   "source": [
    "## Activity\n",
    "\n",
    "Make two arrays (x and y.) The first is a linear spacing of 40 numbers between 0 and 10. The second, y, evaluates the equation below. Then add normally distributed noise to it that has a mean of 1 and a standard deviation of 0.5 We'll use this for plotting in the next section.\n",
    "\n",
    "$y = 0.04x^3 - 0.5x^2 + 2.5x$"
   ]
  },
  {
   "cell_type": "code",
   "execution_count": 59,
   "metadata": {},
   "outputs": [
    {
     "data": {
      "text/plain": [
       "array([5, 7, 2, 1, 2, 6, 6, 2, 8, 2, 7, 3, 3, 7, 7, 7, 0, 9, 9, 2, 3, 7,\n",
       "       8, 3, 7, 1, 8, 8, 6, 8, 5, 6, 4, 7, 4, 2, 1, 1, 0, 1])"
      ]
     },
     "execution_count": 59,
     "metadata": {},
     "output_type": "execute_result"
    }
   ],
   "source": [
    "x = np.random.randint(low=0, high=10, size=40)\n",
    "x"
   ]
  },
  {
   "cell_type": "code",
   "execution_count": 60,
   "metadata": {},
   "outputs": [],
   "source": [
    "def myfunction(x):\n",
    "    return 0.04*(x**3) - 0.05*(x**2) + 2.5*x"
   ]
  },
  {
   "cell_type": "code",
   "execution_count": 94,
   "metadata": {},
   "outputs": [
    {
     "data": {
      "text/plain": [
       "array([ 2.49      ,  3.07575785,  3.6719208 ,  4.28143832,  4.9072599 ,\n",
       "        5.552335  ,  6.21961311,  6.9120437 ,  7.63257624,  8.38416022,\n",
       "        9.16974511,  9.99228038, 10.85471552, 11.76      , 12.7110833 ,\n",
       "       13.71091488, 14.76244424, 15.86862085, 17.03239417, 18.2567137 ,\n",
       "       19.5445289 , 20.89878926, 22.32244424, 23.81844333, 25.389736  ,\n",
       "       27.03927173, 28.77      , 30.58487028, 32.48683204, 34.47883477,\n",
       "       36.56382795, 38.74476104, 41.02458352, 43.40624488, 45.89269458,\n",
       "       48.48688211, 51.19175694, 54.01026855, 56.94536641, 60.        ])"
      ]
     },
     "execution_count": 94,
     "metadata": {},
     "output_type": "execute_result"
    }
   ],
   "source": [
    "y = np.array([myfunction(i) for i in x])\n",
    "y"
   ]
  },
  {
   "cell_type": "code",
   "execution_count": 96,
   "metadata": {},
   "outputs": [],
   "source": [
    "y2 = y + np.random.normal(1, 0.5, 40)\n"
   ]
  },
  {
   "cell_type": "code",
   "execution_count": 57,
   "metadata": {},
   "outputs": [
    {
     "data": {
      "text/plain": [
       "array([0.48813024, 0.81445186, 1.14452422, 2.02365559, 1.13365273,\n",
       "       1.10141131, 0.8954209 , 1.25552159, 0.93612355, 1.0681171 ,\n",
       "       1.22780551, 0.53974933, 0.12682206, 2.16723739, 0.24074618,\n",
       "       1.3019551 , 1.30596788, 0.96369539, 0.57733085, 1.12647983,\n",
       "       1.22615305, 0.31247296, 0.19612263, 1.38580224, 1.51787332,\n",
       "       1.28738721, 0.976508  , 1.23636697, 0.91099255, 0.32946916,\n",
       "       0.81065681, 0.26000411, 0.98286704, 0.29208454, 0.79460522,\n",
       "       0.52840097, 0.74122435, 0.70226401, 1.15946882, 0.88918528])"
      ]
     },
     "execution_count": 57,
     "metadata": {},
     "output_type": "execute_result"
    }
   ],
   "source": [
    "np.random.randn(40) * 0.5 + 1"
   ]
  },
  {
   "cell_type": "code",
   "execution_count": 58,
   "metadata": {},
   "outputs": [
    {
     "data": {
      "text/plain": [
       "array([ 1.43623324,  0.50764922,  0.53038114,  0.74481349,  0.49604065,\n",
       "        0.88092013,  1.67156138,  1.46368545,  1.03128977,  0.54314225,\n",
       "        1.31267781,  0.63093415,  1.16932761,  1.66093521,  0.82071502,\n",
       "        1.18840381,  0.0510996 ,  1.1661985 , -0.24044562,  1.09942062,\n",
       "        0.95459791,  1.28143714,  1.54949805,  1.25043414,  1.2572237 ,\n",
       "        1.06572821,  1.04825436,  1.48428431,  0.68330028,  1.09135283,\n",
       "        0.90147217,  1.70997611,  1.97656588,  0.50646753,  1.60169033,\n",
       "        1.30234926,  0.7628113 ,  0.66898182,  1.67885237,  1.10799927])"
      ]
     },
     "execution_count": 58,
     "metadata": {},
     "output_type": "execute_result"
    }
   ],
   "source": [
    "np.random.normal(1, 0.5, 40)"
   ]
  },
  {
   "cell_type": "code",
   "execution_count": 54,
   "metadata": {},
   "outputs": [
    {
     "data": {
      "text/plain": [
       "array([ 1.15123917,  0.62833508,  1.24785968,  0.91975038,  0.92448271,\n",
       "        1.49646971,  1.19546777,  1.12916072,  0.7226573 ,  0.83650069,\n",
       "        1.13494116,  1.83197953,  0.88453207,  0.84133547,  1.49982077,\n",
       "        0.9810951 ,  1.00368289,  0.85929795,  2.0031288 ,  0.48156187,\n",
       "        0.17140286,  1.1168639 ,  1.30309154,  0.96337875,  0.53306184,\n",
       "        1.00736059,  1.99494496,  1.68644789,  1.52407361,  0.90629111,\n",
       "       -0.23240262,  1.65461865,  0.95383889,  0.53332499,  1.41415888,\n",
       "        1.27832933,  0.20134388,  1.48094131,  0.4298056 ,  1.14599627])"
      ]
     },
     "execution_count": 54,
     "metadata": {},
     "output_type": "execute_result"
    }
   ],
   "source": [
    "np.random.randn(40) * 0.5 + 1\n",
    "\n",
    "np.random.normal(1, 0.5, 40)"
   ]
  },
  {
   "cell_type": "code",
   "execution_count": 51,
   "metadata": {},
   "outputs": [
    {
     "data": {
      "text/plain": [
       "array([16.49502857, 22.66345335, 17.43262479,  2.21844055, 16.64624504,\n",
       "        5.8744082 , 38.21101419,  9.41298225, 22.74208478,  6.00253886,\n",
       "        4.60494923,  5.8326185 , 23.82793756, 17.34893847, 47.81387621,\n",
       "       16.94805362,  8.44223296, 30.32755055,  8.71061608,  3.27552541,\n",
       "       12.33761493, 17.55978351,  1.47959254, 22.78795608, 48.82194086,\n",
       "       29.38261428, 29.86426221,  5.75920994, 22.17567636, 10.02576255,\n",
       "       13.00899683, 16.86823196,  0.87208585,  5.74260437, 17.5149978 ,\n",
       "       48.91134267, 23.08397717, 48.49777782, 16.88912704,  0.93185316])"
      ]
     },
     "execution_count": 51,
     "metadata": {},
     "output_type": "execute_result"
    }
   ],
   "source": [
    "y2"
   ]
  },
  {
   "cell_type": "markdown",
   "metadata": {},
   "source": [
    "# matplotlib - Plotting in Python\n",
    "\n",
    "Matplotlib has advantages:\n",
    "\n",
    "* Easy to get started (MATLAB-like interface)\n",
    "* Support for LaTeX formatted labels and texts\n",
    "* Output in many formats, including PNG, PDF, SVG, EPS, and PGF.\n",
    "* Extensive gallery of examples with source code (https://matplotlib.org/gallery.html)\n",
    "* Programmatic control over all aspects of figures\n",
    "\n",
    "\n",
    "Other plotting tools are available (Plotly, Bokeh, D3, ...) but `matplotlib` is the workhorse.\n",
    "\n",
    "Matplotlib can be used in two ways:\n",
    "\n",
    "* `pylab` modules (works like MATLAB)\n",
    "* object-oreinted interface (harder but more powerful)"
   ]
  },
  {
   "cell_type": "code",
   "execution_count": 56,
   "metadata": {},
   "outputs": [
    {
     "data": {
      "image/png": "[encoded data removed]",
      "text/plain": [
       "<Figure size 432x288 with 1 Axes>"
      ]
     },
     "metadata": {
      "needs_background": "light"
     },
     "output_type": "display_data"
    }
   ],
   "source": [
    "from pylab import *\n",
    "\n",
    "figure()\n",
    "\n",
    "plot(x,y2)\n",
    "\n",
    "xlabel('x')\n",
    "\n",
    "ylabel('y')\n",
    "title('title')\n",
    "\n",
    "show()"
   ]
  },
  {
   "cell_type": "code",
   "execution_count": 40,
   "metadata": {},
   "outputs": [
    {
     "data": {
      "text/plain": [
       "[<matplotlib.lines.Line2D at 0x11723ba20>]"
      ]
     },
     "execution_count": 40,
     "metadata": {},
     "output_type": "execute_result"
    },
    {
     "data": {
      "image/png": "[encoded data removed]",
      "text/plain": [
       "<Figure size 432x288 with 2 Axes>"
      ]
     },
     "metadata": {
      "needs_background": "light"
     },
     "output_type": "display_data"
    }
   ],
   "source": [
    "subplot(1,2,1)\n",
    "plot(x,y2,'r--')\n",
    "subplot(1,2,2)\n",
    "plot(x,y2,'b--')"
   ]
  },
  {
   "cell_type": "markdown",
   "metadata": {},
   "source": [
    "## The matplotlib object-oriented interface\n",
    "\n",
    "The `pylab` interface is easy, but limited.\n",
    "\n",
    "* Use simple global functions that match with MATLAB\n",
    "* Objects are implicitly defined and hidden from users.\n",
    "\n",
    "The `pyplot` object-oriented interface is harder to learn, but much more powerful.\n",
    "\n",
    "* Use objects instead of global functions.\n",
    "* Explicitly define objects - much better for multiple figures."
   ]
  },
  {
   "cell_type": "code",
   "execution_count": 41,
   "metadata": {},
   "outputs": [],
   "source": [
    "import matplotlib\n",
    "import matplotlib.pyplot as plt\n",
    "import numpy as np"
   ]
  },
  {
   "cell_type": "code",
   "execution_count": 44,
   "metadata": {},
   "outputs": [
    {
     "data": {
      "text/plain": [
       "Text(0.5, 0, 'x')"
      ]
     },
     "execution_count": 44,
     "metadata": {},
     "output_type": "execute_result"
    },
    {
     "data": {
      "image/png": "[encoded data removed]",
      "text/plain": [
       "<Figure size 432x288 with 2 Axes>"
      ]
     },
     "metadata": {
      "needs_background": "light"
     },
     "output_type": "display_data"
    }
   ],
   "source": [
    "fig = plt.figure()\n",
    "\n",
    "axes1 = fig.add_axes([0.1,0.1,0.8,0.8]) #I want this axis to begin at 10% of \n",
    "#the width of the fiture, then 80 of the width of the figure with this axis\n",
    "axes2 = fig.add_axes([0.2,0.5,0.4,0.3])\n",
    "\n",
    "axes1.plot(x,y)\n",
    "axes2.plot(y,x)\n",
    "axes1.set_title('title')\n",
    "axes1.set_ylabel('y')\n",
    "axes1.set_xlabel('x')"
   ]
  },
  {
   "cell_type": "markdown",
   "metadata": {},
   "source": [
    "### Saving figures\n",
    "\n",
    "To save a figure to a file we can use the `savefig` method in the `Figure` class. You can output in many formats, but the most common are:\n",
    "\n",
    "* PNG (raster)\n",
    "* JPG (raster)\n",
    "* SVG (vector)\n",
    "* PDF (vector)\n",
    "\n",
    "The SVG and PDF formats are great because they can be edited afterward with vector graphics programs like Inkscape or Adobe Illustrator."
   ]
  },
  {
   "cell_type": "code",
   "execution_count": null,
   "metadata": {},
   "outputs": [],
   "source": []
  },
  {
   "cell_type": "markdown",
   "metadata": {},
   "source": [
    "## The Gallery\n",
    "\n",
    "Matplotlib is a complicated library. The matplotlib gallery is the most useful resource for learning matplotlib\n",
    "\n",
    "https://matplotlib.org/gallery.html"
   ]
  },
  {
   "cell_type": "markdown",
   "metadata": {},
   "source": [
    "## Activitiy\n",
    "\n",
    "make a barchart with the following data with red bars. Then put the word \"Success!\" above the data at a 30 degree angle. (hint: Use the matplotlib gallery to get on the right track)"
   ]
  },
  {
   "cell_type": "code",
   "execution_count": 86,
   "metadata": {},
   "outputs": [],
   "source": [
    "month = ['Jan','Feb','Mar','Apr','May','Jun','Jul']\n",
    "amount = np.linspace(30,80,7) + np.random.randn(7) * 3\n"
   ]
  },
  {
   "cell_type": "code",
   "execution_count": 87,
   "metadata": {},
   "outputs": [
    {
     "data": {
      "image/png": "[encoded data removed]",
      "text/plain": [
       "<Figure size 432x288 with 1 Axes>"
      ]
     },
     "metadata": {
      "needs_background": "light"
     },
     "output_type": "display_data"
    }
   ],
   "source": [
    "bar(month, amount, color=\"red\")\n",
    "text(0.5, 50, 'Success!', rotation=30, fontsize=25)\n",
    "plt.show()"
   ]
  },
  {
   "cell_type": "markdown",
   "metadata": {},
   "source": [
    "# Scipy\n",
    "\n",
    "Scipy is a library focused on tools that scientists will often need, such as optimization, statistics, and numerical integration."
   ]
  },
  {
   "cell_type": "markdown",
   "metadata": {},
   "source": [
    "## Linear Regression"
   ]
  },
  {
   "cell_type": "code",
   "execution_count": 88,
   "metadata": {},
   "outputs": [
    {
     "ename": "ModuleNotFoundError",
     "evalue": "No module named 'scipy'",
     "output_type": "error",
     "traceback": [
      "\u001b[0;31m---------------------------------------------------------------------------\u001b[0m",
      "\u001b[0;31mModuleNotFoundError\u001b[0m                       Traceback (most recent call last)",
      "\u001b[0;32m<ipython-input-88-47512939394c>\u001b[0m in \u001b[0;36m<module>\u001b[0;34m\u001b[0m\n\u001b[0;32m----> 1\u001b[0;31m \u001b[0;32mfrom\u001b[0m \u001b[0mscipy\u001b[0m\u001b[0;34m.\u001b[0m\u001b[0mstats\u001b[0m \u001b[0;32mimport\u001b[0m \u001b[0mlinregress\u001b[0m\u001b[0;34m\u001b[0m\u001b[0;34m\u001b[0m\u001b[0m\n\u001b[0m",
      "\u001b[0;31mModuleNotFoundError\u001b[0m: No module named 'scipy'"
     ]
    }
   ],
   "source": [
    "from scipy.stats import linregress\n",
    "\n",
    "m, b, r, p, stderr = linregress(x,y)\n",
    "\n",
    "plt.scatter()"
   ]
  },
  {
   "cell_type": "markdown",
   "metadata": {},
   "source": [
    "## Polynomial Fitting\n",
    "\n",
    "numpy actually has tools for this `np.polyfit`"
   ]
  },
  {
   "cell_type": "code",
   "execution_count": 92,
   "metadata": {},
   "outputs": [
    {
     "data": {
      "text/plain": [
       "array([16.25, 21.84, 16.25,  2.49, 16.25,  5.12, 37.28,  8.13, 21.84,\n",
       "        5.12,  2.49,  5.12, 21.84, 16.25, 47.61, 16.25,  8.13, 28.77,\n",
       "        8.13,  2.49, 11.76, 16.25,  0.  , 21.84, 47.61, 28.77, 28.77,\n",
       "        5.12, 21.84,  8.13, 11.76, 16.25,  0.  ,  5.12, 16.25, 47.61,\n",
       "       21.84, 47.61, 16.25,  0.  ])"
      ]
     },
     "execution_count": 92,
     "metadata": {},
     "output_type": "execute_result"
    }
   ],
   "source": [
    "y"
   ]
  },
  {
   "cell_type": "code",
   "execution_count": 97,
   "metadata": {},
   "outputs": [],
   "source": [
    "coeffs = np.polyfit(x,y,3)\n",
    "\n",
    "\n",
    "p = np.poly1d(coeffs)\n"
   ]
  },
  {
   "cell_type": "markdown",
   "metadata": {},
   "source": [
    "## Optimization"
   ]
  },
  {
   "cell_type": "code",
   "execution_count": null,
   "metadata": {},
   "outputs": [],
   "source": [
    "from scipy import optimize\n",
    "\n",
    "def f(x):\n",
    "    return 4*x**3 + (x-2)**2 + x**4\n",
    "\n",
    "fig, ax  = plt.subplots()\n",
    "x = np.linspace(-5, 3, 100)\n",
    "y = f(x)\n",
    "ax.plot(x, y);"
   ]
  },
  {
   "cell_type": "code",
   "execution_count": null,
   "metadata": {},
   "outputs": [],
   "source": []
  },
  {
   "cell_type": "code",
   "execution_count": null,
   "metadata": {},
   "outputs": [],
   "source": []
  }
 ],
 "metadata": {
  "kernelspec": {
   "display_name": "Python 3",
   "language": "python",
   "name": "python3"
  },
  "language_info": {
   "codemirror_mode": {
    "name": "ipython",
    "version": 3
   },
   "file_extension": ".py",
   "mimetype": "text/x-python",
   "name": "python",
   "nbconvert_exporter": "python",
   "pygments_lexer": "ipython3",
   "version": "3.7.3"
  }
 },
 "nbformat": 4,
 "nbformat_minor": 2
}
