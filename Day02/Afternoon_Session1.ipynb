{
 "cells": [
  {
   "cell_type": "markdown",
   "metadata": {},
   "source": [
    "# Day 2 Afternoon Session 1\n",
    "\n",
    "Today we'll be reviewing a little bit and going over some of the advanced libraries in python. The main topics will be the linear algebra library `numpy`, the data organization library `pandas` and the plotting library `matplotlib`"
   ]
  },
  {
   "cell_type": "code",
<<<<<<< Updated upstream
   "execution_count": 20,
=======
   "execution_count": 1,
>>>>>>> Stashed changes
   "metadata": {},
   "outputs": [],
   "source": [
    "%matplotlib inline\n",
    "import matplotlib.pyplot as plt\n",
    "from IPython.display import Image"
   ]
  },
  {
   "cell_type": "markdown",
   "metadata": {},
   "source": [
    "## Numpy\n",
    "\n",
    "Numpy is not part of the \"standard library\", but it might as well be for engineers. Numpy is Python's answer to Matlab - the \"back end\" is implemented in C so its performance is very fast (comparable to Matlab)."
   ]
  },
  {
   "cell_type": "code",
   "execution_count": 3,
   "metadata": {},
   "outputs": [],
   "source": [
    "import numpy as np"
   ]
  },
  {
   "cell_type": "markdown",
   "metadata": {},
   "source": [
    "## Creating numpy arrays\n",
    "\n",
    "There are a number of ways to initialize new numpy arrays, for example from\n",
    "\n",
    "* a Python list or tuples\n",
    "* using functions that are dedicated to generating numpy arrays, such as arange, linspace, etc.\n",
    "* reading data from files\n"
   ]
  },
  {
   "cell_type": "code",
   "execution_count": 4,
   "metadata": {},
   "outputs": [
    {
     "name": "stdout",
     "output_type": "stream",
     "text": [
      "[1. 2. 3. 4. 5.]\n",
      "[[2 1]\n",
      " [1 2]]\n"
     ]
    }
   ],
   "source": [
    "nparr = np.array([1,2,3,4,5], dtype = 'float64')\n",
    "print(nparr)\n",
    "\n",
    "mtrx = np.array([[2,1],[1,2]])\n",
    "print(mtrx)"
   ]
  },
  {
   "cell_type": "markdown",
   "metadata": {},
   "source": [
    "## Math With Numpy Arrays"
   ]
  },
  {
   "cell_type": "code",
   "execution_count": 5,
   "metadata": {},
   "outputs": [
    {
     "name": "stdout",
     "output_type": "stream",
     "text": [
      "[2 3 4 5]\n",
      "[ 1  4  9 16]\n"
     ]
    }
   ],
   "source": [
    "s = np.array([1,2,3,4])\n",
    "\n",
    "print( s + 1)\n",
    "\n",
    "print( s ** 2 )"
   ]
  },
  {
   "cell_type": "markdown",
   "metadata": {},
   "source": [
    "It is often more efficient to generate large arrays instead of creating them from lists. There are a few useful functions for this in numpy:\n",
    "\n",
    "* `np.arange` - create a range with a specified step size (endpoints not included)\n",
    "* `np.linspace` - create a range with a specified number of points (endpoints *are* included)\n",
    "* `np.logspace` - create a range with a specified number of points in log space (endpoints *are* included)\n",
    "* `np.mgrid` - create points on a multi-dimensional grid (similar to meshgrid in matlab)\n",
    "* `np.random.rand` - create random number matrix from a uniform distribution\n",
    "* `np.random.randn` - create random number matrix from a standard normal distribution\n",
    "* `np.zeros` - create a matrix of zeros\n",
    "* `np.ones` - create a matrix of ones\n",
    "* `np.eye` - create identity matrix\n",
    "\n",
    "be sure to check the [manual](https://docs.scipy.org/doc/numpy/reference/) if you get confused"
   ]
  },
  {
   "cell_type": "code",
   "execution_count": 4,
   "metadata": {},
   "outputs": [
    {
     "name": "stdout",
     "output_type": "stream",
     "text": [
      "[1.  1.2 1.4 1.6 1.8 2.  2.2 2.4 2.6 2.8 3.  3.2 3.4 3.6 3.8]\n"
     ]
    }
   ],
   "source": [
    "l = np.arange(1,4,0.2)\n",
    "print(l)\n",
    "\n",
    "k = np.eye(4)\n",
    "\n",
    "j = np.random.rand(3,3,3) #3 by 3 by 3\n",
    "j = np.random.randn(3,3,3)\n"
   ]
  },
  {
   "cell_type": "markdown",
   "metadata": {},
   "source": [
    "## index slicing"
   ]
  },
  {
   "cell_type": "code",
   "execution_count": 6,
   "metadata": {},
   "outputs": [
    {
     "data": {
      "text/plain": [
       "array([ 1.31930082, -1.1206731 ,  0.13235369])"
      ]
     },
     "execution_count": 6,
     "metadata": {},
     "output_type": "execute_result"
    }
   ],
   "source": [
    "j[1][1]\n",
    "\n",
    "j[1,1]"
   ]
  },
  {
   "cell_type": "markdown",
   "metadata": {},
   "source": [
    "## Matrix Operations"
   ]
  },
  {
   "cell_type": "code",
   "execution_count": 7,
   "metadata": {},
   "outputs": [
    {
     "data": {
      "text/plain": [
       "array([0, 0, 1])"
      ]
     },
     "execution_count": 7,
     "metadata": {},
     "output_type": "execute_result"
    }
   ],
   "source": [
    "a = np.array([1,2])\n",
    "b = np.array([[3,4], [5,6]])\n",
    "\n",
    "np.matmul(a,b)# multiply\n",
    "\n",
    "j = np.array([1,0,0])\n",
    "k = np.array([0,1,0])\n",
    "\n",
    "np.cross(j,k) # cross product"
   ]
  },
  {
   "cell_type": "markdown",
   "metadata": {},
   "source": [
    "# Reshaping Arrays"
   ]
  },
  {
   "cell_type": "code",
   "execution_count": 8,
   "metadata": {},
   "outputs": [
    {
     "data": {
      "text/plain": [
       "array([[3, 4, 5, 6]])"
      ]
     },
     "execution_count": 8,
     "metadata": {},
     "output_type": "execute_result"
    }
   ],
   "source": [
    "b.reshape(1,4) # 1 row  and 4 columns"
   ]
  },
  {
   "cell_type": "markdown",
   "metadata": {},
   "source": [
    "## Activity\n",
    "\n",
    "Make two arrays (x and y.) The first is a linear spacing of 40 numbers between 0 and 10. The second, y, evaluates the equation below. Then add normally distributed noise to it that has a mean of 1 and a standard deviation of 0.5 We'll use this for plotting in the next section.\n",
    "\n",
    "$y = 0.04x^3 - 0.5x^2 + 2.5x$"
   ]
  },
  {
   "cell_type": "code",
   "execution_count": 19,
   "metadata": {},
   "outputs": [
    {
     "name": "stdout",
     "output_type": "stream",
     "text": [
      "[ 1.65058458  2.08444525  2.05903206  2.91461574  3.3169633   4.56406114\n",
      "  3.57900463  3.6112144   4.47558007  4.78770035  4.39335332  4.395033\n",
      "  5.94758924  4.17249772  5.4400424   5.22292826  5.7593705   5.76469299\n",
      "  6.32014483  5.94829185  7.01008858  6.37239963  6.00670586  6.57127336\n",
      "  6.55834097  6.76133028  6.48894103  7.84312054  7.49022896  8.41100335\n",
      "  8.83668102  9.45887493 10.16756956  9.76220038 10.6953015  11.22751978\n",
      " 12.52980473 14.5129077  13.39800473 15.69639478]\n"
     ]
    }
   ],
   "source": [
    "import numpy as np\n",
    "x = np.arange(0,10, 0.25) # np.linspace(0,10,40)\n",
    "\n",
    "y = 0.04 * x ** 3 - 0.5 * x ** 2 + 2.5 * x + np.random.randn(len(x)) * 0.5 + 1\n",
    "\n",
    "print(y)"
   ]
  },
  {
   "cell_type": "markdown",
   "metadata": {},
   "source": [
    "# matplotlib - Plotting in Python\n",
    "\n",
    "Matplotlib has advantages:\n",
    "\n",
    "* Easy to get started (MATLAB-like interface)\n",
    "* Support for LaTeX formatted labels and texts\n",
    "* Output in many formats, including PNG, PDF, SVG, EPS, and PGF.\n",
    "* Extensive gallery of examples with source code (https://matplotlib.org/gallery.html)\n",
    "* Programmatic control over all aspects of figures\n",
    "\n",
    "\n",
    "Other plotting tools are available (Plotly, Bokeh, D3, ...) but `matplotlib` is the workhorse.\n",
    "\n",
    "Matplotlib can be used in two ways:\n",
    "\n",
    "* `pylab` modules (works like MATLAB)\n",
    "* object-oreinted interface (harder but more powerful)"
   ]
  },
  {
   "cell_type": "code",
   "execution_count": 25,
   "metadata": {},
   "outputs": [
    {
     "data": {
      "image/png": "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\n",
      "text/plain": [
       "<Figure size 432x288 with 1 Axes>"
      ]
     },
     "metadata": {},
     "output_type": "display_data"
    }
   ],
   "source": [
    "from pylab import *\n",
    "# LaTeX will work with pylab\n",
    "\n",
    "figure()\n",
    "plot(x, y)\n",
    "xlabel(\"x\")\n",
    "ylabel(\"y\")\n",
    "title(\"title\")\n",
    "show()"
   ]
  },
  {
   "cell_type": "code",
   "execution_count": 26,
   "metadata": {},
   "outputs": [
    {
     "data": {
      "text/plain": [
       "[<matplotlib.lines.Line2D at 0x1f78f111588>]"
      ]
     },
     "execution_count": 26,
     "metadata": {},
     "output_type": "execute_result"
    },
    {
     "data": {
      "image/png": "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\n",
      "text/plain": [
       "<Figure size 432x288 with 2 Axes>"
      ]
     },
     "metadata": {},
     "output_type": "display_data"
    }
   ],
   "source": [
    "subplot(1,2,1)\n",
    "plot(x,y, 'r--')\n",
    "subplot(1,2,2)\n",
    "plot(x,y)"
   ]
  },
  {
   "cell_type": "markdown",
   "metadata": {},
   "source": [
    "## The matplotlib object-oriented interface\n",
    "\n",
    "The `pylab` interface is easy, but limited.\n",
    "\n",
    "* Use simple global functions that match with MATLAB\n",
    "* Objects are implicitly defined and hidden from users.\n",
    "\n",
    "The `pyplot` object-oriented interface is harder to learn, but much more powerful.\n",
    "\n",
    "* Use objects instead of global functions.\n",
    "* Explicitly define objects - much better for multiple figures."
   ]
  },
  {
   "cell_type": "code",
   "execution_count": 27,
   "metadata": {},
   "outputs": [],
   "source": [
    "import matplotlib\n",
    "import matplotlib.pyplot as plt\n",
    "import numpy as np"
   ]
  },
  {
   "cell_type": "code",
   "execution_count": 32,
   "metadata": {},
   "outputs": [
    {
     "data": {
      "text/plain": [
       "Text(0.5,0,'x')"
      ]
     },
     "execution_count": 32,
     "metadata": {},
     "output_type": "execute_result"
    },
    {
     "data": {
      "image/png": "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\n",
      "text/plain": [
       "<Figure size 432x288 with 2 Axes>"
      ]
     },
     "metadata": {},
     "output_type": "display_data"
    }
   ],
   "source": [
    "fig = plt.figure()\n",
    "# add_Axes([how far from left (fraction), how far from ______]) -- research\n",
    "axes1 = fig.add_axes([0.1,0.1,0.8,0.8])\n",
    "axes2 = fig.add_axes([0.2,0.5,0.4,0.3])\n",
    "\n",
    "axes1.plot(x,y)\n",
    "axes2.plot(y,x)\n",
    "\n",
    "axes1.set_title('title')\n",
    "axes1.set_ylabel('y')\n",
    "axes1.set_xlabel('x')"
   ]
  },
  {
   "cell_type": "markdown",
   "metadata": {},
   "source": [
    "### Saving figures\n",
    "\n",
    "To save a figure to a file we can use the `savefig` method in the `Figure` class. You can output in many formats, but the most common are:\n",
    "\n",
    "* PNG (raster)\n",
    "* JPG (raster)\n",
    "* SVG (vector)\n",
    "* PDF (vector)\n",
    "\n",
    "The SVG and PDF formats are great because they can be edited afterward with vector graphics programs like Inkscape or Adobe Illustrator."
   ]
  },
  {
   "cell_type": "code",
   "execution_count": 33,
   "metadata": {},
   "outputs": [],
   "source": [
    "fig.savefig('fig.pdf')"
   ]
  },
  {
   "cell_type": "markdown",
   "metadata": {},
   "source": [
    "## The Gallery\n",
    "\n",
    "Matplotlib is a complicated library. The matplotlib gallery is the most useful resource for learning matplotlib\n",
    "\n",
    "https://matplotlib.org/gallery.html"
   ]
  },
  {
   "cell_type": "markdown",
   "metadata": {},
   "source": [
    "## Activitiy\n",
    "\n",
    "make a barchart with the following data with red bars. Then put the word \"Success!\" above the data at a 30 degree angle. (hint: Use the matplotlib gallery to get on the right track)"
   ]
  },
  {
   "cell_type": "code",
   "execution_count": 66,
   "metadata": {},
   "outputs": [
    {
     "data": {
      "image/png": "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\n",
      "text/plain": [
       "<Figure size 432x288 with 1 Axes>"
      ]
     },
     "metadata": {},
     "output_type": "display_data"
    }
   ],
   "source": [
    "month = ['Jan','Feb','Mar','Apr','May','Jun','Jul']\n",
    "amount = np.linspace(30,80,7) + np.random.randn(7) * 3\n",
    "\n",
    "fig, ax = plt.subplots()\n",
    "months = np.arange(len(month))\n",
    "\n",
    "ax.bar(months, amount, align='center',\n",
    "        color='red')\n",
    "ax.set_xticks(months)\n",
    "ax.set_xticklabels(month)\n",
    "\n",
    "plt.text(1.1, 72, 'Success!', rotation=30, size = 30)\n",
    "\n",
    "plt.show()\n",
    "\n",
    "fig.savefig('success.svg')"
   ]
  },
  {
   "cell_type": "markdown",
   "metadata": {},
   "source": [
    "# Scipy\n",
    "\n",
    "Scipy is a library focused on tools that scientists will often need, such as optimization, statistics, and numerical integration."
   ]
  },
  {
   "cell_type": "markdown",
   "metadata": {},
   "source": [
    "## Linear Regression"
   ]
  },
  {
   "cell_type": "code",
   "execution_count": 69,
   "metadata": {},
   "outputs": [
    {
     "data": {
      "text/plain": [
       "[<matplotlib.lines.Line2D at 0x1f7909ab390>]"
      ]
     },
     "execution_count": 69,
     "metadata": {},
     "output_type": "execute_result"
    },
    {
     "data": {
      "image/png": "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\n",
      "text/plain": [
       "<Figure size 432x288 with 1 Axes>"
      ]
     },
     "metadata": {},
     "output_type": "display_data"
    }
   ],
   "source": [
    "from scipy.stats import linregress\n",
    "\n",
    "m, b, r, p, stderr = linregress(x,y)\n",
    "\n",
    "plt.scatter(x,y)\n",
    "\n",
    "plt.plot(x, x * m + b)"
   ]
  },
  {
   "cell_type": "markdown",
   "metadata": {},
   "source": [
    "## Polynomial Fitting\n",
    "\n",
    "numpy actually has tools for this `np.polyfit`"
   ]
  },
  {
   "cell_type": "code",
   "execution_count": 73,
   "metadata": {},
   "outputs": [
    {
     "data": {
      "text/plain": [
       "[<matplotlib.lines.Line2D at 0x1f790ca1ba8>]"
      ]
     },
     "execution_count": 73,
     "metadata": {},
     "output_type": "execute_result"
    },
    {
     "data": {
      "image/png": "iVBORw0KGgoAAAANSUhEUgAAAXQAAAD8CAYAAABn919SAAAABHNCSVQICAgIfAhkiAAAAAlwSFlzAAALEgAACxIB0t1+/AAAADl0RVh0U29mdHdhcmUAbWF0cGxvdGxpYiB2ZXJzaW9uIDIuMi4yLCBodHRwOi8vbWF0cGxvdGxpYi5vcmcvhp/UCwAAIABJREFUeJzt3Xl81OW59/HPlZUAgRAIWyAk7LIoaHABtQpV1OqRek5rrVq1tjy1tlVr9QF7qufV5YBLF7ucenhcWy2tC0VbK2gFsYtSwxJJhKggkAVIWEIwZJ/7+SMBIcxkwqyZme/79fKV5De/md/1i+Sae+77uu/bnHOIiEjsS4p2ACIiEhpK6CIicUIJXUQkTiihi4jECSV0EZE4oYQuIhInlNBFROKEErqISJxQQhcRiRMpkbzYoEGDXH5+fiQvKSIS89atW7fXOZfj77yIJvT8/HyKiooieUkRkZhnZju6c566XERE4oTfhG5mj5tZtZmVdDr+TTMrM7NSM3sgfCGKiEh3dKeF/iRwybEHzOxC4ErgVOfcZOCh0IcmIiInw29Cd869CezvdPgWYLFzrqnjnOowxCYiIich0D708cB5ZrbWzNaY2QxfJ5rZfDMrMrOimpqaAC8nIiL+BFrlkgIMAM4GZgDPmtlo52W3DOfcEmAJQGFhoXbTEJGEsXxDJQ+uLKOqtoHhWRncNXcC86bnhu16gSb0CmBZRwL/l5l5gEGAmuAiIrQn84XLNtHQ0gZAZW0DC5dtAghbUg+0y2U5MBvAzMYDacDeUAUlIhLrHlxZdjSZH9HQ0saDK8vCdk2/LXQzWwpcAAwyswrgPuBx4PGOUsZm4AZv3S0iIomqqrbhpI6Hgt+E7py7xsdD14U4FhGRuDE8K4NKL8l7eFZG2K6pmaIiImFw19wJZKQmH3csIzWZu+ZOCNs1I7qWi4hIojgy8BkLVS4iIuLHvOm5XDJlKG0eR5/08KdbdbmIiITRk//czqcefIOaQ01hv5YSuohImOyvb+ZXqz/k1BH9yclMD/v1lNBFRMLk569/QH1TKwsvnRiR6ymhi4iEwUd763n67R1cPSOPcUMyI3JNJXQRkTB4YMUW0lKSuOOicRG7phK6iEiIrduxn1dKdjP//NEMzuwVsesqoYuIhJBzjh+9vJnBmenMP390RK+thC4iEkKvlOxm/c5avn3ReHqnRXaqjxK6iEiINLd6uH/FFiYMyeRzhSMjfn3NFBUR6cLJbFLx9Ns72LHvME/cNIPkJItwpEroIiI+ncwmFQcbWvj5qg84d+wgLhifE/FYQV0uIiI+ncwmFf+z+kMONrSw8LKJmEW+dQ5K6CIiPnV3k4qKA4d54p/buWr6CCYP7x+J0LxSQhcR8cHXZhSdjz+0sgwDvjN3fASi8k0JXUTEh+5sUlFcXsvyjVV85bwChvUP325E3eE3oZvZ42ZW3bF/aOfHvmNmzswGhSc8EZHomTc9l0VXTSU3KwMDcrMyWHTV1KMDoh6P494XS8jJTOdrnxoT3WDpXpXLk8Avgd8ce9DMRgIXATtDH5aISM8wb3quzzLFPxSVU1xxkJ9dPY3MXqkRjuxEflvozrk3gf1eHvopcDfgQh2UiEhPd6C+mQdWbOHMgmyunDY82uEAAfahm9m/AZXOueIQxyMiEhMefLWMusZWvn/l5KiVKXZ20hOLzKw38F3g4m6ePx+YD5CXl3eylxMR6XHerahl6b92ctPMAiYO7RftcI4KpIU+BigAis1sOzACWG9mQ72d7Jxb4pwrdM4V5uREZ/aUiEioeDyO771YysA+6dwewbXOu+OkW+jOuU3A4CM/dyT1Qufc3hDGJSLSIz1bVE5xeS0/+fxp9OsBA6HH6k7Z4lLgLWCCmVWY2c3hD0tEpOepPdzM/Su2MCN/AJ/1UfkSTX5b6M65a/w8nh+yaEREerCHjg6ETukxA6HH0mqLIiLdsKniIM+s3ckN5+RzyrD2gdCTWVo3EpTQRUT8aB8ILWFgn3TuuKh9vZaTWVo3UrSWi4iIH8+tK2djeS0LL51I/4z2gdCTWVo3UpTQRUS6cKC+mftXlFE4agBXnf5Jy7u7S+tGkhK6iEgXvv/n96hraOEH844fCO3u0rqRpIQuIuLD6i3V/HFDJV+/YMzRgdAjurO0bqRpUFRExItDjS3c88dNjBvcl1tnjz3h8SMDn6pyERHp4Ra/soXddY0su2Um6SnJXs/pamndaFCXi4hIJ29t3ccza3fy5VkFTM8bEO1wuk0JXUTkGA3NbSxc9i552b35zsXR6w8PhLpcRESO8dO/vs/2fYf53VfPIiPNe1dLT6UWuohIh+LyWh792zauOXMkM8fE3lbJaqGLSEI7sh5LZW0DKUlGZq9UFl52SrTDCoha6CKSsI6sx1LZMbuz1eNoaG5j1ebqKEcWGCV0EUlY3tZjaW7zRHU9lmAooYtIwuqJ67EEQwldRBJWT1yPJRhK6CKSsP799BNneUZ7PZZgqMpFRBJSXWMLL6yvZGCfNNJSkth9sLFHrMcSDL8J3cweBy4Hqp1zUzqOPQhcATQDW4GbnHO14QxURCSU7l1ewu66Rp772jmcHkPT+7vSnS6XJ4FLOh17DZjinDsVeB9YGOK4RETCZvmGSpZvrOK2OePiJplDNxK6c+5NYH+nY68651o7fnwbGBGG2EREQq58/2G+t7yEM0YN4OsXjIl2OCEVikHRLwOvhOB1RETCqs3j+PazG3HAz66eRkpyfNWFBHU3ZvZdoBV4potz5ptZkZkV1dTUBHM5EZGg/PqND3ln+wF+MG8yI7N7RzuckAs4oZvZDbQPll7rnHO+znPOLXHOFTrnCnNycgK9nIhIUDaW1/LTv37Av502nHnTYrOKxZ+AyhbN7BLg/wKfcs4dDm1IIiKhVd/Uyu2/38DQfr1O2Ow5nvhtoZvZUuAtYIKZVZjZzcAvgUzgNTPbaGaPhDlOEZGAOOe498VSduw/zE8+fxr9M1KjHVLY+G2hO+eu8XL4sTDEIiISckv/Vc4L6yv41pxxnDV6YLTDCav4GuIVETlGcXkt//VSKeePz+G2OeOiHU7YKaGLSFzaX9/M159ZT05mOg9fPY3kpPjsNz+W1nIRkbjT5nHc9vsN1Bxq4huzx3L5L/5OVW1DzK/V4o8SuojEnYdf/4C/fbCXqwtH8us3th7dxKKytoGFyzYBxGVSV5eLiMSV1Vuq+fnrH/AfZ4zgbx/UnLAjUUNLW8zuSOSPErqIxI3y/Ye5/Q8bmTSsHz+cN4VdBxu9nherOxL5o4QuInGhsaWNrz29Duccj1x3Br1Sk+NuRyJ/lNBFJC7c+2IJpVV1/PTqaeQNbF+n5a65E8hITT7uvFjekcgfDYqKSMx7+u0dPFtUwTdnj2XOKUOOHj8y8PngyjJVuYiI9HRvvl/DfS+VcuGEHG7/9PgTHp83PTduE3hn6nIRkZj1/p5DzP9tEQasLqvh/AdWs3xDZbTDihq10EUkJtUcauLq/32LxhbP0WPxXmfuj1roIhJzGlva+Opviqg93HLCY/FcZ+6PErqIxBSPx3Hns8UUV9Tia2edeK0z90cJXURiyo9fK+PlTbtYeOlEchOsztwfJXQRiRnPFpXzq9VbuebMPL563uiEqzP3R4OiIhIT/rl1L/cs28R54wbx/SsnY2YJV2fujxK6iETd8g2VXSblD/Yc4pan11MwqA+//OLppCZ/0rmQSHXm/iihi0hULd9QycJlm3wucVu+/zDXPbaWtJQkHr9xRlzvCRqs7mwS/biZVZtZyTHHss3sNTP7oOPrgPCGKSLx6sGVZT6XuN1T18i1j66lqdXD0zefxcjs3lGKMjZ0Z1D0SeCSTscWAK8758YBr3f8LCJy0nyVGFbWNnD9Y2vZ93ETT950JhOGZkY4stjjN6E7594E9nc6fCXwVMf3TwHzQhyXiCQIXyWGqcnG9n2HefSGGUwbmRXhqGJToGWLQ5xzuwA6vg4OXUgikki8lR4mWfu+oL++9nTOGTMwSpHFnrAPiprZfGA+QF5eXrgvJyIx5tjSw8raBtJTkmhu9fCzL0w7uhSuvyoYaRdoC32PmQ0D6Pha7etE59wS51yhc64wJycnwMuJSDybNz2XN+++kCtOG05Tq4cffnYKV05rT9hHqmAqaxtwfFIFk8irKvoSaEJ/Cbih4/sbgBdDE46IJCKPx/Gfy0v4U3EVCy6dyLVnjTr6WFdVMHK87pQtLgXeAiaYWYWZ3QwsBi4ysw+Aizp+FhE5aW0exz1/3MTSf+3k1gvH8LVPjTnucV9VMIm6AFdX/PahO+eu8fHQnBDHIiJxylcfeGubhzufK+bFjVV8a/ZY7rjoxB2HhmdlUOkleSfqAlxd0UxREQkrXzNBW9s8/HVzNStKd3PX3AnceuFYr8+/a+6E454Pib0AV1eU0EUkrHz1gX93eQlNrR7uvXwSXz63wOfztQBX9ymhi0hY+errbmr18N+fncoXz/JfzqwFuLpH66GLSFj56use0Du1W8lcuk8JXUTCyttM0LTkJO67YnKUIopfSugiElbzpudy9yUTSEkyALL7pPHAf5yqLpQwUB+6iIRVSeVBHlmzlYzUZB65/gxmjR0U7ZDilhK6iITN6i3V3Pq79WRlpPL8LTO1BG6YKaGLSNC8TRw61NTKfS+WMGl4Px67YQZD+vWKdphxTwldRILibeLQd54rptXjmD1xML+4Zjp90pVqIkG/ZREJireJQ60eR5+0ZJZcfwYpyaq9iBT9pkUkKL4mDtU3tymZR5h+2yISFF8Th3K1eFbEKaGLSMCcc8z0skWcFs+KDvWhi4hf3qpY5k4eyneXb2LZ+kpOGZZJbX0Lu+satXhWFJlzLmIXKywsdEVFRRG7nogEr3MVC0B6ShID+6Sxq66R2+aM41uzx5HUMRNUQs/M1jnnCv2dpxa6iHTJWxVLU6uHXXWNPHHjDC6YMDhKkUln6kMXkS75qmJxDiXzHkYJXUS6pCqW2BFUQjezO8ys1MxKzGypmWlur0gccc5xrpfFtFTF0jMFnNDNLBf4FlDonJsCJANfCFVgIhJdNYea+MpTRfyhqJzxQ/oypF86RnvLfNFVU1XF0gMFOyiaAmSYWQvQG6gKPiQRCQdvpYe+kvLK0t0sXLaJ+qZW7r18EjfOzFcVSwwIOKE75yrN7CFgJ9AAvOqce7XzeWY2H5gPkJen7aZEosHbAloLl20COC6pH2ps4ft/eo/n1lUwJbcfP/38NMYN0ZK3sSKYLpcBwJVAATAc6GNm13U+zzm3xDlX6JwrzMnJCTxSEQmYt9LDhpY2HlxZdvTnN8qqufThv/HC+gq+ceFYlt0yS8k8xgTT5fJp4CPnXA2AmS0DZgJPhyIwEQkdX6WHVbUN7D7YyA/+/B4vb9rF6Jw+PPe1mZwxakCEI5RQCCah7wTONrPetHe5zAE0DVSkBxqelUGll6TeLyOVT/9kDS1tHu68aDzzPzWa9JRkL68gsSDgLhfn3FrgeWA9sKnjtZaEKC4RCaG75k4gI/X4RG3AwYYWTh81gFfvOJ+R2b2Z/dAaCha8zKzFq1i+oTI6wUrAgqpycc7dB9wXolhEJEyODHze/8oWdtU1ApDZK4VFV53KZVOH8uLGqm4NmkrPppmiIgmgpc3DoaZWWjwekgxunJnPPxbM5jOnDsPMujVoKj2fFucSiWPOOVaW7uGBFVvYtreeM/OzeeLGSUwd0f+487oaNJXYoYQuEqeKtu9n0StbWLfjAGMH9+XRLxUy55TBmJ04QcjXoKmvdVykZ1JCF4kzW2s+5oEVW1hZuoeczHQWXTWVz50xosv9Pe+aO+GENc+1XkvsUUIXiRM79x3m12s+5NmiCnqlJPHti8bzlfMK6J3m/8/8yMBnd5cGkJ5JCV3kGCez3klP8WH1If5n9VZeLK4i2Yxrz8rjW3PGMahv+km9zrzpuT3+XqVrSugiHbq73klPUVp1kF+t/pBXSnaTnpLEjTPz+ep5oxnaX6tYJyoldJEOXZXu9aSEvm7HAX61+kNWbakmMz2Fr18whi/PKmDgSbbIJf4ooYt06Mmley1tHn708mZ+t3YnzW0ezOCyKUNZ9O+n0j8jNdrhSQ+hhC7SoSeW7u39uImla3fy6N8/4mBDy9HjzsHqshpWb6nuUZ8eJLo0U1Skg7f1TqJVurexvJY7/rCRmYtW8ePX3qexU1cQaCannEgtdJEOkSjd66qKZunandy/Ygu1HS3x9JQkvnhWHtefM4pP/3iN19frCd1B0nMooYscI5yle96qaBa88C5bdtfxzkcHWLfzwHHnGzBtZBZjcvp2qzsoFksuJbTU5SISId6qaBpbPTyyZhvryw+ccH5jq+dol4q/7qAjbxaVtQ04Pim51BK4iUUtdJGTEEwr2FsL+wjnvB8/0qXirzsoVkouJbyU0CXuhKvrIZCJRzv21fNKyW5e2bTL5+vmdnSb+OtS6ao7qCeXXErkKKFLXAnnbM/utIKdc2ytqWdl6W7+smkXpVV1AJw6oj+XnzqM197bQ1Or5+jzj+02CWZxrJ5YcimRp4QucSWcXQ++WruVtQ2sLqvmjS3VrC6rYef+wwBMz8viu5edwiVThjIyuzfg/9NDoJ8stFqiQJAJ3cyygEeBKYADvuyceysUgYkEIpxdD75awQbc9MQ79EpNYtaYQXz1/NHMmTjYa+u4q26TYCpstFqiQPAt9IeBFc65/zCzNKB3CGISCVi4uh72fdzERZOG8Nu3d9Dm+WQE04Dzxg3i5vNGc1ZBNitKdvPgyjLuXV4S8aSq1RIl4IRuZv2A84EbAZxzzUBzaMKSaIvVmmZ/XQ/dva+DDS3866P9/HPrXt7auo8tuw8B7ZN9UpKMplYPgzPTueeyU44+P9ZWa5T4E0wLfTRQAzxhZqcB64DbnHP1IYlMoiaWE1NXXQ9d3deZBdkU7TjAuu37KdpxgM276vC49gQ+Iz+bu+YOZ+aYgUzN7e9z5x+VDkq0mfNVAOvviWaFwNvALOfcWjN7GKhzzn2v03nzgfkAeXl5Z+zYsSPIkCXcZi1e5bXbIjcrg38smB326/trRQf66cHXfSWb0dbxd9A7LZnpeVkUjsrmnDEDmZ6XRXpK8gnP8aZgwct4+2sy4KPFn+nWa4h4Y2brnHOF/s4LpoVeAVQ459Z2/Pw8sKDzSc65JcASgMLCwsDePSSiolnT7O/Twcl+enDOUXGggeKKWp8Te9qc474rJlE4KptThmV2ufdmV1Q6KNEWcEJ3zu02s3Izm+CcKwPmAO+FLjSJlmgmJn/dFv4er65rpKTqIJsq6iiuqKW4vJZ99V0P7eRmZXDTrIKgY1fpoERbsFUu3wSe6ahw2QbcFHxIEm3RTEz+Ph10VQt+5o/+SvWhJgDMYGxOX2ZPHMxpI7OYNjKLLbvq+N6LpWG7L5UOSrQFldCdcxsBv/06EluimZh8fTrIyUznT8VV9ElP4eOm1hMeT0kyzh07iCm5/Zk6oj+nDOtH3/Tj/3lP6RjQDOd9qXRQoingQdFAFBYWuqKioohdT6In0IHL54vK+e7ykuOmxx8rOcnweNxxg4+9UpJY/O+nKpFK3IrEoKiIV90duKxrbGFzVR2lHf+9t6uOD/YcovWYiTtpyUmcVZDNFacNZ9LwfowfkslfNu1St4aIF0roEnK+Bi5/8Of3qDrYQGllHSVVB9mx7/DRxwf1TWfy8H5cOCGHScP7MXl4f0Zl9yYpyU54fXVriHinhC4h56s8cF99Mw+sKGNgnzTqm9v7wQf2SeO2OeP40sz8CEYoEp+U0CUoh5tbKamso7i8tr1MsKLW57mD+qTx7YvH84M/b6axpb2PfF99M4te2UK/jFS1ukWCpIQu3eacY/u+w6zbcYD1Ow+wfscB3t9ziCNd3rlZGZw6oj/TRmSxsnQPzW3Hr/v9n5dP0vR4kTBSQhefGlvaeLfiIOt2HDiaxPd3TNLJ7JXC9LwBXDx5KNNG9mdqbhY5melHn+uryuWOP2z0ei3trCMSPCV0OaqxpY31Ow/w9rb9vL1tHxt31h5tZY8e1IfZEwdzxqgBnDFqAGNz+nodsDzC18ClpseLhI8SegJrbGljw85a3tq277gEnmQwNbc/N83KZ0Z+NqePGkB2n7SQXFPT40XCRwk9hgUyeWf73nreKKtmzfs1vLVtH40t7Ql8Sm5/bpyVz9mjsynMz6Zfr9SwxKzp8SLho4Qeo7o7eedwcytvbd3HmvdrWPN+zdHa7/yBvfnCjDzOGzeIGQXhS+DeqI5cJDyU0GNUV9Ui540bxGvv7WFl6W7+8eE+mts8ZKQmM3PMQG4+t4Dzx+WQP6hPlCIXkXBRQg9CNLdp62rVwRk/+iseByOzM7j+nFFcOGEwMwoGdHujBhGJTUroAYrENm1dvWH4qhZJSTK+fuFY5k4ewqRh/TDzXYkiIvFFCT1A4Z4g4+sN43BzK2ZGeuqJu+qkpyRxf8eqg8s3VDL/N+tCvo2biPRcSugBCvc2bb7eMO75YwkAY3L68Jmpwyjavp/qQ03d3gw5kG3cRCQ2KKEHKNwTZLp6Y3jpG7OYmtvfZ3dKsNu4iUhsCmw3XOGuuRPISD1+kDEUE2SaWz38qbiKVB8bFbevl5LVZd94oNu4ncyni+UbKpm1eBUFC15m1uJVLN9Q2e3nikh4qIUeoFBPkKmsbWDp2p38/p1y9n7cxMA+aRxsaDlus4fuvmH4+/QQ7KcLddmI9ExBJ3QzSwaKgErn3OXBhxQ7gp0g45zjn1v38eQ/t/P65j04YM7EwVx39ijOH5fDS8VVAb1h+JteH+z0e3XZiPRMoWih3wZsBvqF4LUSQpvHsbJ0N79+YyubKg8yqG8at1wwhmvOzGPEgN5Hzwv0DcPfp4dgP12Ee0BYRAITVEI3sxHAZ4AfAd8OSURxrKm1jeUbKvnfNdvYtreegkF9WHzVVD57em7IJ/34ezMI5tOFVkwU6ZmCbaH/DLgbyAxBLHHr46ZWlq7dyaN/38aeuiam5Pbjf649nbmTh5LcxRK0PZVWTBTpmQJO6GZ2OVDtnFtnZhd0cd58YD5AXl5eoJeLSfVNrTz294947O8fcbChhZljBvLQ507j3LGDYnoGp1ZMFOmZzDnn/yxvTzRbBFwPtAK9aO9DX+acu87XcwoLC11RUVFA14slza0efrd2B79c/SF7P27moklDuPXCsUwbmRXt0EQkBpnZOudcob/zAm6hO+cWAgs7LnYB8J2uknkiaPM4Xiqu5Mevvk/FgQbOHp3N//vSRKbnDfB6vqbfi0goqQ49BJxzrNpSzYMry9iy+xCTh/fjvz87lX0fN/GN323wmrBVyy0ioRaSmaLOuTcSrQb9iOLyWj73yFvc/FQRjS1t/OKa6fzpG+eyv76Ze/5YQmVtA45PEvaRGZVd1XKLiARCLfQAHahv5oGVZfz+nZ0M7JPOD+dN4eoZI49O2fc3+Ua13CISakrofnTu577z4vE0tXq4f8UWDjW28uVZBdz+6XFkdtrCzV/CVi23iISaEnoXvPVz3/lcMc7BmfnZfH/eZCYO9T5B1l/CVi23iISaVlvsgrduE+dgQO9U/vB/zvaZzMH/aozzpuey6Kqp5GZlYLSvorjoqqkaEBWRgKmF3gVf3Sa1h1v8TgzqzuSbYBf3EhE5lhK6D/vrm+mVmnxCCx2638+thC0ikaQuFy9eLd3NxT9dQ3Obh5ROa62on1tEeqqEb6EfW8UytF8vcgdkULTjAJOG9eO3N59F2e5Dms0pIjEhoRN65yqWXXWN7Kpr5OJJQ/jlF08nLSWJU4b1UwIXkZiQ0F0u3qpYAEqr6khLSehfjYjEoITOWt7qxEGzNUUkNiVsQv9TcRW+Cg81W1NEYlHC9aE3tbbxo5c385u3dlAwsA9VBxtoavUcfVxVLCISqxIqoZfvP8ytv1vPuxUH+ep5Bdx9yURefneXqlhEJC4kTEJ/tXQ333muGIAl15/BxZOHApr8IyLxI+4TepvH8eDKMh5Zs5VTR/TnV188nZHZvaMdlohIyMV1Qj/c3Mptv9/Ia+/t4dqz8rj3ikmkpyT7f6KISAyK24S+62ADX3mqiM276vivKyZx46yCaIckIhJWMZ/QvW20PCanL1/5zTvUN7Xx2I0zuHDC4GiHKSISdgEndDMbCfwGGAp4gCXOuYdDFVh3eNuA4u7n3wUgJzOdF245i8276pi1eJWqWEQk7gXTQm8F7nTOrTezTGCdmb3mnHsvRLH55W3qfnObh9RkY/mts/jHh3tPSPgLl20CUFIXkbgT8ExR59wu59z6ju8PAZuBiGZJX1P0W9ocOZnpXW7ULCISb0Iy9d/M8oHpwNpQvF53+Zqin9tx3N9GzSIi8STohG5mfYEXgNudc3VeHp9vZkVmVlRTUxPs5Y5z64Vj6LT/xHFT930lfK3VIiLxKKiEbmaptCfzZ5xzy7yd45xb4pwrdM4V5uTknPQ1lm+oZNbiVRQseJlZi1exfEMlAHs/buLpt3diZmT3TvO60bK/jZpFROJJMFUuBjwGbHbO/SR0IX3CWxXLwmWbOHC4md++vYOq2gYev3EGnxrv/Y2iOxs1i4jEC3POBfZEs3OBvwGbaC9bBLjHOfcXX88pLCx0RUVF3b7GrMWrvK5ZnmxG77RkHr9pBjPys08ucBGRGGNm65xzhf7OC7iF7pz7O/hcUjwkfA1etjnH0vlnMyW3fzgvLyISU3r0Bhe+Bi8HZ6YrmYuIdNKjE7q3Qc30lCTuueyUKEUkItJz9ei1XI4MXi76y2b2HGpiaL9eLLh0ogY1RUS86NEJHbQBhYhId/XoLhcREek+JXQRkTihhC4iEieU0EVE4oQSuohInFBCFxGJE0roIiJxQgldRCROBLzaYkAXM6sBdgT49EHA3hCGE0sS9d5134knUe/d332Pcs753VAiogk9GGZW1J3lI+NRot677jvxJOq9h+q+1eUiIhInlNBFROJELCX0JdEOIIoS9d5134knUe89JPcdM33oIiLStVhqoYuISBdiIqGb2SVmVmZmH5rZgmjHEwlmNtLMVpvZZjMrNbPboh1TJJlgsQfcAAAC4klEQVRZspltMLM/RzuWSDKzLDN73sy2dPy/PyfaMUWCmd3R8e+8xMyWmlmvaMcULmb2uJlVm1nJMceyzew1M/ug4+uAQF67xyd0M0sGfgVcCkwCrjGzSdGNKiJagTudc6cAZwO3Jsh9H3EbsDnaQUTBw8AK59xE4DQS4HdgZrnAt4BC59wUIBn4QnSjCqsngUs6HVsAvO6cGwe83vHzSevxCR04E/jQObfNOdcM/B64MsoxhZ1zbpdzbn3H94do/8NOiK2bzGwE8Bng0WjHEklm1g84H3gMwDnX7JyrjW5UEZMCZJhZCtAbqIpyPGHjnHsT2N/p8JXAUx3fPwXMC+S1YyGh5wLlx/xcQYIktiPMLB+YDqyNbiQR8zPgbsAT7UAibDRQAzzR0d30qJn1iXZQ4eacqwQeAnYCu4CDzrlXoxtVxA1xzu2C9sYcMDiQF4mFhG5ejiVMaY6Z9QVeAG53ztVFO55wM7PLgWrn3LpoxxIFKcDpwK+dc9OBegL86B1LOvqLrwQKgOFAHzO7LrpRxaZYSOgVwMhjfh5BHH8cO5aZpdKezJ9xzi2LdjwRMgv4NzPbTnv32mwzezq6IUVMBVDhnDvySex52hN8vPs08JFzrsY51wIsA2ZGOaZI22NmwwA6vlYH8iKxkNDfAcaZWYGZpdE+WPJSlGMKOzMz2vtSNzvnfhLteCLFObfQOTfCOZdP+//rVc65hGitOed2A+VmNqHj0BzgvSiGFCk7gbPNrHfHv/s5JMBgcCcvATd0fH8D8GIgL5ISsnDCxDnXambfAFbSPvr9uHOuNMphRcIs4Hpgk5lt7Dh2j3PuL1GMScLvm8AzHY2XbcBNUY4n7Jxza83seWA97dVdG4jjGaNmthS4ABhkZhXAfcBi4Fkzu5n2N7jPBfTamikqIhIfYqHLRUREukEJXUQkTiihi4jECSV0EZE4oYQuIhInlNBFROKEErqISJxQQhcRiRP/HxQ5h5ku1FxnAAAAAElFTkSuQmCC\n",
      "text/plain": [
       "<Figure size 432x288 with 1 Axes>"
      ]
     },
     "metadata": {},
     "output_type": "display_data"
    }
   ],
   "source": [
    "# google docs of np.polyfit and np.poly1d\n",
    "coeffs = np.polyfit(x,y, 3)\n",
    "p = np.poly1d(coeffs)\n",
    "\n",
    "plt.scatter(x,y)\n",
    "plt.plot(x,p(x))"
   ]
  },
  {
   "cell_type": "markdown",
   "metadata": {},
   "source": [
    "## Model Selection With The Bayesian Information Criterion\n",
    "\n",
    "Bayesian information criterion (BIC) attempts to balance the complexity of a model with its goodness of fit, it is defined to be:\n",
    "\n",
    "$ BIC = n*\\ln{(\\sigma^2_e)} + k*\\ln(n)$\n",
    "\n",
    "where $n$ is the number of data points, $\\sigma_e$ is the standard deviation of the error, and $k$ is the number of parameters.\n",
    "\n",
    "(Lower BIC is better)"
   ]
  },
  {
   "cell_type": "code",
   "execution_count": 74,
   "metadata": {},
   "outputs": [
    {
     "name": "stdout",
     "output_type": "stream",
     "text": [
      "-46.409776781052045\n"
     ]
    }
   ],
   "source": [
    "#here's a function that implements it\n",
    "def BIC(y, yhat, k, weight = 1):\n",
    "    err = y - yhat\n",
    "    sigma = np.std(np.real(err))\n",
    "    n = len(y)\n",
    "    B = n*np.log(sigma**2) + weight*k*np.log(n)\n",
    "    return B\n",
    "\n",
    "h = BIC(y,p(x),3)\n",
    "print(h)"
   ]
  },
  {
   "cell_type": "markdown",
   "metadata": {},
   "source": [
    "Let's loop through the different polynomial orders and and plot the BIC"
   ]
  },
  {
   "cell_type": "code",
   "execution_count": 76,
   "metadata": {},
   "outputs": [
    {
     "data": {
      "text/plain": [
       "Text(0.5,0,'polynomial order')"
      ]
     },
     "execution_count": 76,
     "metadata": {},
     "output_type": "execute_result"
    },
    {
     "data": {
      "image/png": "iVBORw0KGgoAAAANSUhEUgAAAYoAAAEKCAYAAAAMzhLIAAAABHNCSVQICAgIfAhkiAAAAAlwSFlzAAALEgAACxIB0t1+/AAAADl0RVh0U29mdHdhcmUAbWF0cGxvdGxpYiB2ZXJzaW9uIDIuMi4yLCBodHRwOi8vbWF0cGxvdGxpYi5vcmcvhp/UCwAAIABJREFUeJzt3Xt4VfWd7/H3NwkJJCRcA+TO/RJABSKhFcV6qaJW1Gqr4oyttp6esaedmTM36znTdlrn9JyeM07ncaYd6rS2j3ihFtSq43gbQEUCCAjInQC5QkIQEgi5/84fe4WmGBJIsvdaK/m8nmc/WXvtnZ3vfnL5ZK3f+v2+5pxDRETkfOL8LkBERIJNQSEiIl1SUIiISJcUFCIi0iUFhYiIdElBISIiXVJQiIhIlxQUIiLSJQWFiIh0KcHvAvrC6NGj3fjx4/0uQ0QkVD788MNjzrn07p7XL4Ji/PjxbNq0ye8yRERCxcwOX8jzdOpJRES6pKAQEZEuKShERKRLCgoREemSgkJERLqkoBARkS4pKEREpEsDOij2V53i+7/7mKaWNr9LEREJrAEdFKXH6/nl+4d4c+dRv0sREQmsAR0UV01NJ2v4EJYXXdDkRBGRAWlAB0V8nHFvYS7rDtRwoPqU3+WIiATSgA4KgLsKskmIM54pKvG7FBGRQBrwQTEmdTA3zBrHCx+W0dDc6nc5IiKBM+CDAmBpYS4nzzTz6rZKv0sREQkcBQXwmYmjmDg6RYPaIiKdUFAAZpFB7c0lJ9hZUet3OSIigaKg8Nw5L5vEhDie2aCjChGRjhQUnuHJidxySQarNpdzqrHF73JERAJDQdHBfQvyON3Uyktby/0uRUQkMBQUHczJGc6MjDSeXl+Cc87vckREAkFB0YGZsbQwl12VtWwtPeF3OSIigeBrUJjZL8ysysx2dNg30szeNLN93scRsazptjlZpCTGs1wztUVEAP+PKJ4Cbjxn398AbzvnpgBve/djZmhSAkvmZPG7jyo4Wd8cyy8tIhJIvgaFc24tcPyc3UuAX3nbvwJui2lRRGZqN7a08dvNZbH+0iIigeP3EUVnxjrnKgG8j2NiXcDMzGHMyR3O8qLDGtQWkQEviEFxQczsITPbZGabqqur+/z1lxbmcaD6NOuLzz3gEREZWIIYFEfNLAPA+1jV2ZOcc8uccwXOuYL09PQ+L+KWSzJIG5yg9Z9EZMALYlC8DNzvbd8PvORHEYMHxXPnvBz+4+MjVNc1+lGCiEgg+H157LPAB8A0MyszsweBHwHXm9k+4Hrvvi/uLcyludXxmw9L/SpBRMR3CX5+cefcPed56NqYFnIek8cMZcHEkTxTVMI3rppEXJz5XZKISMwF8dRToNy3II+yT86wZl/fD5iLiISBgqIbn88fx+ihiSxfr5naIjIwKSi6kZgQx5cKcnhn91EqTpzxuxwRkZhTUFyAe+bn4oDnNmpQW0QGHgXFBcgZmcyiqek8t6GE5tY2v8sREYkpBcUFWlqYR1VdI2/v6nT+n4hIv6WguECfm5ZOxrDBmqktIgOOguICJcTHcc/8XN7dd4xDx077XY6ISMwoKC7Cly/PIT7OeHaDLpUVkYFDQXERxqYN5voZY1mxqZTGlla/yxERiQkFxUVauiCXT+qbeX3HEb9LERGJCQXFRbpi0mjyRiVrpraIDBgKiosUF2fcOz+XDYeOs/dond/liIhEnYKiB+4qyCExPo7l63WprIj0fwqKHhiZkshNs8excnM59U0tfpcjIhJVCooeWrogj7rGFn73UYXfpYiIRJWCoocK8kYwdexQlhdpUFtE+jcFRQ+ZGUsL89hWdpJtZSf8LkdEJGoUFL1w+9wshgyK5xkdVYhIP6ag6IW0wYNYclkmL22toLah2e9yRESiQkHRS0sL8zjT3MqqzeV+lyIiEhUKil6anT2MS7KHsbzoMM45v8sREelzCoo+sLQwl71HT7Hp8Cd+lyIi0ucCGxRmdqOZ7TGz/Wb2N37X05UvXJpJalKCZmqLSL8UyKAws3jgn4HFQD5wj5nl+1vV+SUnJnDH3Cxe236E46eb/C5HRKRPBTIogPnAfudcsXOuCXgOWOJzTV1auiCPptY2Xviw1O9SRET6VFCDIgvo+Be3zNsXWFPHpjJ//EiWF5XQ1qZBbRHpP4IaFNbJvj/462tmD5nZJjPbVF1dHaOyurZ0QS6Ha+p5/8Axv0sREekzQQ2KMiCnw/1s4A9W33POLXPOFTjnCtLT02Na3PncOGscI1MS1dRIRPqVoAbFRmCKmU0ws0TgbuBln2vqVlJCPHfNy+bNXUc5WtvgdzkiIn0ikEHhnGsBvgn8B7ALWOGc+9jfqi7MPfNzaW1zPL9Rg9oi0j8EMigAnHOvOeemOucmOece87ueCzV+dApXThnNsxtKaGlt87scEZFeC2xQhNnSwjwqTzawek8wBtlFRHpDQREF184Yw9i0JJ4u0kxtEQk/BUUUDIqP48uX57JmbzWlx+v9LkdEpFcUFFFy9+U5GPDsBl0qKyLhpqCIkszhQ7hm+lhWbCqlqUWD2iISXgqKKFq6IJdjp5p4Y+cRv0sREekxBUUULZqSTvaIIZqpLSKhpqCIorg4497CXD4ormF/1Sm/yxER6REFRZTdNS+HhDjjxS3qqS0i4aSgiLL01CSmjE1le/lJv0sREekRBUUM5GeksbOy1u8yRER6REERA/mZaVTXNVJVpxVlRSR8FBQxkJ+RBsCuyjqfKxERuXgKihhoD4qdFTr9JCLho6CIgWHJg8gaPkTjFCISSgqKGMnPTGNnha58EpHwUVDESH5GGsXHTlPf1OJ3KSIiF0VBESP5mWk4B3uOaEBbRMJFQREjZwe0NU4hIiGjoIiR7BFDSB2coCufRCR0FBQxYmaaoS0ioaSgiKH8zDR2V9bR2ub8LkVE5IIpKGIoPyONM82tHKo57XcpIiIXzJegMLO7zOxjM2szs4JzHnvEzPab2R4zu8GP+qIlP1MztEUkfPw6otgB3AGs7bjTzPKBu4GZwI3Av5hZfOzLi44pY1IZFG8apxCRUPElKJxzu5xzezp5aAnwnHOu0Tl3ENgPzI9tddGTmBDH5DGpOqIQkVAJ2hhFFlDa4X6Zt6/f0JVPIhI2UQsKM3vLzHZ0clvS1ad1sq/TS4TM7CEz22Rmm6qrq/um6BhQbwoRCZuEaL2wc+66HnxaGZDT4X42UHGe118GLAMoKCgIzfWmHXtTjEkd7HM1IiLdC9qpp5eBu80sycwmAFOADT7X1KfUm0JEwsavy2NvN7My4DPAq2b2HwDOuY+BFcBO4HXgYedcqx81Rot6U4hI2ETt1FNXnHOrgFXneewx4LHYVhRb6k0hImEStFNPA4J6U4hImCgofKDeFCISJgoKH6g3hYiEiYLCB+pNISJhoqDwgXpTiEiYKCh8ot4UIhIWCgqfqDeFiIRFl0FhZoPNLL2T/WPMTOtP9IJ6U4hIWHR3RPFPwJWd7L8eeLzvyxk42ntT7NI4hYgEXHdBsdA5t/Lcnc655cBV0SlpYDjbm0JBISIB111QdLbs94V+rnQjPyNNp55EJPC6+2NfZWaf6jBnZpcD4WkCEVD5mWlU1TVSXdfodykiIufV3aKAfwmsMLOngA+9fQXAHxPpbS298PveFLWkp37qmgERkUDo8ojCObcBKCRyCuor3s2AQudcUbSL6++0lIeIhEG3y4w7544C341BLQPO2d4UGqcQkQDrMijMbDud96w2wDnnLolKVQNIfqaW8hCRYOvuiOKWmFQxgOVnpPH2rqOcaWplSGK83+WIiHxKl0HhnDt87j4zGw3UOOe0SFEfyM9Mo83BnqN1XJYz3O9yREQ+pbslPBaY2WozW2lmc8xsB7ADOGpmN8amxP7t7IC2xilEJKC6O/X0BPAdYBjwDrDYObfezKYDzwKvR7m+fu9sb4pK9dAWkWDqbsJdgnPuDefcb4Ajzrn1AM653dEvbWA425tCRxQiElDdBUVbh+0z5zymMYo+kp+Zxu4j6k0hIsHU3amnS82slsjlsEO8bbz7Wma8j+RnpFHf1MrhmtNMTB/qdzkiIn+gu5nZ8c65NOdcqnMuwdtuvz+op1/UzH5sZrvNbJuZrTKz4R0ee8TM9pvZHjO7oadfI0zO9qbQfAoRCSC/VoB9E5jlTdjbCzwCYGb5RNaQmgncCPyLmfX7yQXtvSk0TiEiQeRLUHgD5C3e3fVAtre9BHjOOdfonDsI7Ac+tXptf6PeFCISZEHoKfEA8O/edhZQ2uGxMm9fvzcjI1VHFCISSFELCjN7y8x2dHJb0uE5jwItwPL2XZ28VKeXApnZQ2a2ycw2VVeHvzVGfoZ6U4hIMHW7emxPOeeu6+pxM7ufyFpS13ZYDqQMyOnwtGyg4jyvvwxYBlBQUBD660rbB7TVm0JEgsaXU0/e8h9/DdzqnKvv8NDLwN1mlmRmE4ApwAY/aow19aYQkaCK2hFFN54AkoA3zQxgvXPuG865j81sBbCTyCmph51zrT7VGFPDkxPVm0JEAsmXoHDOTe7isceAx2JYTmDMyFBvChEJniBc9SSe/Mw0iqtPcaZpQBxEiUhI+HXqSTqRn6HeFCLRdKqxhRUbS9lXVcfgQfEkJ8aTnJjAEG97iHe/ffvc/UMGxRMf19nFmf2bgiJAZmb+vjeFgkKk7xw52cAv1x3kmaIS6hpaGD00kcbmNuqbWy96Mc6khLizATN4UFwkQBLbQyeeIYMiQTMieRCfnzmOmZlpeGOxoaWgCJDsEUNITVJvCpG+svtILT9fe5CXPyqntc1x0+wMvn7lRC71/hFzztHU2saZplbqvVtku4X65sj2maZWb7ulw+Pec5tbzm7XnGqitKnl7PPrGlr4p3f2M21sKnfMzWLJZVmMGxbOtVQVFAFiZszIVG8Kkd5wzrHuQA3L1hazZm81QwbFs7QwjwcXTiBnZPIfPNfMSEqIJykhnuHJ53nBHjpR38Qr2ypZubmM//Xvu/nR67tZOHk0d8zN4oaZ40hODM+f3/BUOkDkZ6SxYlMprW1uQJ4LFemp5tY2XtteybK1xXxcUcvooUn85Q3TWFqYy/DkxJjXMzw5kfsW5HHfgjwOHjvNqs1lrNxSzp89/xHJiTtYPCuDO+ZmsWDiqMD/risoAiY/U70pRC7GqcYWnttQwi/eO0jFyQYmjxnK//niJSyZk0lSQjAWn54wOoU///w0/vS6qWw6/AkrN5fx6rZKfru5jIxhg7ltThZ3zMliythUv0vtlIIiYDrO0FZQiJzfuQPUhRNG8sPbZ3H11DHEBfQ/9Lg4Y/6EkcyfMJLv3TqTN3ceZeXmMpatLeanqw8wO2sYd8zN4tZLMxk1NMnvcs9SUATMlLFDSYiL9Ka45ZJMv8sRCZzuBqjDYvCgeL5waSZfuDST6rpGXv6ogpWby/j+73by2Ku7uHpaOnfMzeaa6WMYPMjfIyMFRcAkJcQzecxQzdAW6cA5x/v7a1j2bjFr91aTnHj+AeowSk9N4sGFE3hw4QT2HKlj5ZYyXtxSzlu7qkgdnMAtl2TyxblZzMsb4cultgqKAMrPTOO9fcf8LkPEd82tbby6LTJAvbOylvRUfweoY2HauFQeWTyDv7phOusOHGPl5nJe3FLOsxtKyBuVzO1zsrh9ThZ5o1JiVpOCIoDyM9JYubmc6rpG0lODc55SJFbqGpp5fmNpoAeooy0+zrhySjpXTknnB7e18PqOI6zaUsZP3t7HP761j4K8EdwxN5ubZ2cwLHlQVGtRUASQelPIQHXkZAO/fN8boG5sYcHE4A9Qx8LQpATunJfNnfOyqThxhhe3lrNycznfWbWdPUdq+f6SWVH9+gqKAOp45dNVUxUU0r+1T5BbXnSYNz4+SpuLDFA/dNVELskO1wB1LGQOH8KfXD2Z/7poEtvLTzJsSHSPJkBBEUjqTSEDwYn6Jl74sIxnikooPnaaEcmDeGDhBP5oQV6/GKCONjOLWZAqKAJqRkYau3Tlk/Qzzjm2lp7g6fUlvLKtgsaWNubljeDxayezeFaG75eBSucUFAGVn5nGO7uP0tDcql8eCb36phZe2lrB0+sP83FFLSmJ8dw5L5ulhXlnx+QkuBQUAXW2N8WRutBNJBJpt/doHU+vP8yqzeXUNbYwfVwqP7xtFrfNyWJokv78hIW+UwF1tjdFZa2CQkKlsaWV13ccYfn6EjYcOk5iQhw3z87gvgW5zM31Z8KY9I6CIqDO9qbQgLaEROnxepYXlfCbTaXUnG4ib1Qy37lpOnfOy2FkSv+cHDdQKCgC6mxvCg1oS4C1tjne2V3F8qLDrNlbjQHXzRjLfQvyWDh59ICe+9CfKCgCrL03RVub0y+cBEpVXQPPbyjl2Q0lVJxsYGxaEt+6Zgp3z88hY9gQv8uTPqagCLCzvSmO1zNhdOzWdRHpjHOODw7U8LQ3Ma6lzbFw8mj+9gv5XDtjLIPi4/wuUaJEQRFgZ2doV9QqKMQXLa1tfFR2gtV7qnl1eyXF1acZnjyIr14xnnsL8/RzOUD4EhRm9gNgCdAGVAFfcc5VWORyiJ8ANwH13v7NftQYBGd7U1Se5OZLMvwuRwaIo7UNrNlTzZq91by7r5rahhbiDAryRvLw1ZO5+RJNjBto/Dqi+LFz7n8CmNm3gL8FvgEsBqZ4t0Lgp97HAelsbwpd+SRR1NTSxqbDx1mzt5o1e6rZfaQOgHFpg1k8K4NF09K5YtLoqK9QKsHlS1A45zr+5UsBnLe9BPi1c84B681suJllOOcqY15kQORnpvH+fvWmkL5Verw+Egx7q1m3/xinm1oZFG9cPn4kjyyezqJp6Uwbm6o5DwL4OEZhZo8BfwycBD7n7c4CSjs8rczb96mgMLOHgIcAcnNzo1qrn9p7Uxw71cjoAPXQlXBpaG6l6OBx1uypZvXeKoqrTwOR+Tq3z81i0dQxfGbSKM2Wlk5F7afCzN4CxnXy0KPOuZecc48Cj5rZI8A3ge8Cnf374jrZh3NuGbAMoKCgoNPn9Acde1NcOUVLjsuFcc5x8NhpVntjDeuLa2hsaSMpIY4FE0dxX2EeV09LZ8LoFB01SLeiFhTOuesu8KnPAK8SCYoyIKfDY9lARR+XFiodr3xSUEhXTje2sO5ADWv2VrFmbzWlx88AMDE9hXsLc7l62hgKJ4zUQLRcNL+ueprinNvn3b0V2O1tvwx808yeIzKIfXIgj09Ah94UmqEt52hqaWN7+UmKDtbw3r5jbDx0nOZWR0piPJ+dPJr/ctUkFk1NV28H6TW/Tkj+yMymEbk89jCRK54AXiNyaex+IpfHftWf8oJlRkaarnwSGppb2VJygg0Hj1N0sIbNJZ/Q0NwGwPRxqTywcAKLpqZTkDeSxARNfpO+49dVT188z34HPBzjcgJPvSkGplONLXx4+BM2HKyhqPg4H5WdoLnVYRY5JXnP/FwKJ4zi8vEjGKULHSSKdIlDCKg3xcBwsr6ZDYeOs+FgDRsOHmdHRS2tbY6EOGN29jAeWDiBwgkjmZc3MiZ9kkXaKShCQL0p+qfqukY2HjpOUXENRQePs+doHc5BYkIcl+UM5+GrJzF/wijm5A4nRZetio/00xcC6k3RP1ScOOONL0TGGNrnMiQnxjMvbwQ3z86gcOIoLskeplOMEigKihBQb4pwOtPUymvbK1l3oIYNh2rOXq6aOjiB+eNH8uWCHAonjmJmZppWXpVAU1CEhHpThEd1XSO//uAQT68/zCf1zYxKSWT+hJE8cMUE5k8YyfRxacTreyghoqAICfWmCL59R+t48t2DrNpaTnNrG9fPGMvXrpzI5ePVJ1rCTUEREupNEUzOOT4oruHJdw/yzu4qkhLi+FJBNg8unKjvk/QbCoqQUG+KYGlubeO17ZX8/N1idpTXMiolkT+/fir3LchjZEqi3+WJ9CkFRUioN0Uw1DU08/zGUn7x3kEqTjYwKT2FH90xm9vmZOlKJem3FBQhot4U/qk4cYan1h3i2aIS6hpbWDBxJD+4bRafmzZGFxdIv6egCBH1poi9HeUnefLdYl7ZVokDbp6dwdevnMjs7GF+lyYSMwqKEFFvithwzrF6bzU/X1vMugM1pCTG85XPjucrV4wne4RWYpWBR0ERIupNEV2NLa28tKWCn79bzL6qU4xLG8wji6dz9/xcra0kA5qCIkTUmyI6PjndxPKiwzy17jDHTjWSn5HG41++lJtnZ2q5bhEUFKEzIyNVVz71kcM1p/m39w7ym01lnGluZdHUdB66aiKfnTRKE+REOlBQhEx+Rhrv7K5Sb4oeamltY83eap4pKuGdPVUMiotjyWWZfO3KiUwbl+p3eSKBpKAImfxM9aboiYoTZ3h+YykrNpVSebKB9NQkHr56Mn/8mTzGpA32uzyRQFNQhEx+RuSyTPWm6F5Laxur91TzzIYSVu+pwgFXTUnnu1+YybUzxmjFVpELpKAIGfWm6F7FiTM8t7GUFRtLOVIbOXr4k6sn8+XLc8gZqctbRS6WgiJk4uKMGRnqTXGultY2/nNPNc+ec/TwvVt19CDSWwqKEMrPTOM36k0BQHn72IN39DAmNYmHPzeZLxXo6EGkrygoQig/I43TTa2UHK9n/ABcyrr96OGZosOs3lsNRI4evr9kJtdM19GDSF9TUIRQ+1IeOytrB1RQlH1Sz4qNpTy/qZSjtY2MSU3imzp6EIk6X4PCzP4C+DGQ7pw7ZpFZTj8BbgLqga845zb7WWMQTR7j9aaoqOWm2f27N0VLaxvv7K7imQ0lrPGOHhZNTecHS3K5ZvoYEnT0IBJ1vgWFmeUA1wMlHXYvBqZ4t0Lgp95H6WDwIK83RT8e0C77pP7svIeORw9fvjxHC/OJxJifRxSPA38FvNRh3xLg1845B6w3s+FmluGcq/SlwgDLz0hj3YEav8voU845Nhw8zrK1xbyzpwqAq3X0IOI7X4LCzG4Fyp1zH52zpk4WUNrhfpm371NBYWYPAQ8B5ObmRq/YgMrPTGPllnJqTjUyKuS9KdraHG/uOsrP1hxgS8kJRqYk6uhBJECiFhRm9hYwrpOHHgW+A3y+s0/rZJ/r7PWdc8uAZQAFBQWdPqc/a19yfFdlHQunhDMomlraeHFrOf+65gAHqk+TPWIIf7dkJnfNy2FIotaxEgmKqAWFc+66zvab2WxgAtB+NJENbDaz+USOIHI6PD0bqIhWjWE2o703ReVJFk4Z7XM1F+dUYwvPbSjhyXcPcqS2genjUvnJ3Zdx8+wMnV4SCaCYn3pyzm0HxrTfN7NDQIF31dPLwDfN7Dkig9gnNT7RuREpiWQOGxyqpTyOnWrkqfcP8esPDlHbEOk7/aMvzmbR1HQt6y0SYEGbR/EakUtj9xO5PPar/pYTbPmZ4VjKo6Smnp+/W8yKTaU0tbbx+fyxfGPRJObkjvC7NBG5AL4HhXNufIdtBzzsXzXhkp+Rxn/uqQ5sb4qPK07yszXFvLqtgvg444452Ty0aCKT0of6XZqIXATfg0J6Lj8zjdY2x96jdVySHYwlx51zfFBcw8/WFLN2bzUpifF87cqJPHDFBMYNU98HkTBSUITY2d4UFbW+B0Vbm+ONnUf46ZpiPio9weihifzlDdO4b0Eew4YM8rU2EekdBUWIne1N4eM4RWNLK6s2l7NsbTHFx06TOzKZH942izvnZQfydJiIXDwFRYid7U3hw5VPdQ3NPFNUwr+9d5CqukZmZqbxxL1zWDwrg/gBvvS5SH+joAi5WPemqKpr4JfvH+Lp9Yepa2jhismj+H9fupSFk0frEleRfkpBEXKx6E3R1NLG6j1VvLi1nLd2VtHc1sbiWeP4xqJJvo+NiEj0KShCLlq9KZxzbC75hFVbynllWyUn6psZlZLIvYW53P/Z8UwYQH0wRAY6BUXI9XVviuLqU7y4tYIXt5RTcryewYPi+Hz+OG6fm8XCyaPVPU5kAFJQhFxf9KaoOdXIK9sqWbmlnI9KT2AGV0wazbevncINs8YxNEk/JiIDmf4C9AM96U1xpqmVN3cd5cUt5azZW01rm2NGRhqP3jSDL1yaqclxInKWgqIfuNDeFK1tjqLiGlZuKef1HUc41dhCxrDBfP3Kidw2J5Pp49JiWLWIhIWCoh/orjfF7iO1rNpczktbKzhS28DQpAQWz4qMOyyYMComl9WKSHgpKPqBznpTHDnZwEtby1m1pZzdR+pIiDOunpbO/7hlBtfNGKtZ0yJywRQU/UB7b4pNhz5hRHIpL24tZ92BGpyDObnD+bslM7l5dkboW6aKiD8UFP1EfmYab+w8yhs7j5I3KplvXTOF2+Zkab6DiPSagqKf+NqVExk/KoXFszOYmztcy2mISJ9RUPQTCyaOYsHEUX6XISL9kKbZiohIlxQUIiLSJQWFiIh0SUEhIiJdUlCIiEiXFBQiItIlBYWIiHRJQSEiIl0y55zfNfSamVUDh/2uoxujgWN+F9FH+st76S/vA/RegigM7yPPOZfe3ZP6RVCEgZltcs4V+F1HX+gv76W/vA/Qewmi/vI+QKeeRESkGwoKERHpkoIidpb5XUAf6i/vpb+8D9B7CaL+8j40RiEiIl3TEYWIiHRJQRFFZpZjZv9pZrvM7GMz+7bfNfWWmcWb2RYze8XvWnrDzIab2Qtmttv7/nzG75p6wsz+zPvZ2mFmz5rZYL9ruhhm9gszqzKzHR32jTSzN81sn/dxhJ81XojzvI8fez9f28xslZkN97PG3lBQRFcL8N+dczOABcDDZpbvc0299W1gl99F9IGfAK8756YDlxLC92RmWcC3gALn3CwgHrjb36ou2lPAjefs+xvgbefcFOBt737QPcWn38ebwCzn3CXAXuCRWBfVVxQUUeScq3TObfa264j8Mcryt6qeM7Ns4GbgSb9r6Q0zSwOuAv4NwDnX5Jw74W9VPZYADDGzBCAZqPC5novinFsLHD9n9xLgV972r4DbYlpUD3T2PpxzbzjnWry764HsmBfWRxQUMWJm44E5QJG/lfTKPwJ/BbT5XUgvTQSqgV96p9GeNLMUv4u6WM65cuD/AiVAJXDSOfeGv1X1ibHOuUqI/LOYIPE6AAAFEUlEQVQFjPG5nr7wAPDvfhfRUwqKGDCzocBvgT91ztX6XU9PmNktQJVz7kO/a+kDCcBc4KfOuTnAacJxeuMPeOfulwATgEwgxczu87cqOZeZPUrkNPRyv2vpKQVFlJnZICIhsdw5t9LvenrhCuBWMzsEPAdcY2ZP+1tSj5UBZc659qO7F4gER9hcBxx0zlU755qBlcBnfa6pLxw1swwA72OVz/X0mJndD9wCLHUhnougoIgiMzMi58F3Oef+we96esM594hzLts5N57IgOk7zrlQ/vfqnDsClJrZNG/XtcBOH0vqqRJggZklez9r1xLCQflOvAzc723fD7zkYy09ZmY3An8N3Oqcq/e7nt5QUETXFcAfEfnve6t3u8nvogSA/wYsN7NtwGXA3/tcz0XzjoheADYD24n8PodqNrCZPQt8AEwzszIzexD4EXC9me0DrvfuB9p53scTQCrwpve7/zNfi+wFzcwWEZEu6YhCRES6pKAQEZEuKShERKRLCgoREemSgkJERLqkoJABw8xWm5kvPYzNbN0FPOdUH369r5jZE331ejKwKShEYsA5F7UZ0xbRq99lb1FBkU4pKCSUzGy8t9b/r7z1/l8ws2TvsWu9xf62e30Cks753AfN7PEO979uZv/gveYuM/u51+PhDTMb4j3nMjNb36G3wAhv/2oze9zM1nqfe7mZrfR6Kfyww9c45X0camZvm9lmr74lF/Be/9zrN7HDzP60w/vfZWb/QmTCXY6ZfdXM9prZGiKTPds/P93MfmtmG73bFd7+75nZMjN7A/h1T78XMgA453TTLXQ3YDzggCu8+78A/gIYDJQCU739vyayGCPAaqAASAEOAIO8/euA2d5rtgCXeftXAPd529uARd723wH/2OE1/7e3/W0iy3xnAElE1pQa5T12yvuYAKR526OB/fx+4uupTt7nPCKzrlOAocDHRFYhHk9kFd8F3vMyiCzpkQ4kAu8DT3iPPQMs9LZziSwpA/A94ENgiN/fT92CfdMRhYRZqXPufW/7aWAhMI3IQnl7vf2/ItJ74izn3GngHeAWM5tOJDC2ew8fdM5t9bY/BMab2TBguHNuzXle82Xv43bgYxfpQ9IIFAM559RswN97S4e8RaQ/ydgu3uNCYJVz7rRz7hSRhf+u9B477Jxb720XAqtdZIHAJuD5Dq9xHfCEmW31ak0zs9T22p1zZ7r4+iLovKSE2bnrzzgif4gvxJPAd4DdwC877G/ssN0KDLmA12r/nLZzPr+NT/+OLSXyX/8851yztxpvV+1Lu3o/p8+5f771eOKAz5wbCJF1BD/1GiKfoiMKCbNc+32v63uA94j84R9vZpO9/X8ErDn3E11kQb0c4F7g2a6+iHPuJPCJmbX/J9/pa16gYUT6ejSb2eeAvG6evxa4zVshNgW4HXi3k+cVAVeb2Shvafu7Ojz2BvDN9jtmdlkPa5cBSkcUEma7gPvN7F+BfUQaETWY2VeB33hX8mwEzrdq5woi4xGfXMDXuh/4mTdgXgx8tYc1Lwd+Z2abgK1Egu28nHObzewpYIO360nn3BaLdEzs+LxKM/sekRVMK4kMcMd7D38L+GfvdFcCkfD5Rg/rlwFIq8dKKHl/KF9xzs3qxWu8AjzunHu7r+oS6Y906kkGHDMbbmZ7gTMKCZHu6YhCRES6pCMKERHpkoJCRES6pKAQEZEuKShERKRLCgoREemSgkJERLr0/wFBz1msTdSXXQAAAABJRU5ErkJggg==\n",
      "text/plain": [
       "<Figure size 432x288 with 1 Axes>"
      ]
     },
     "metadata": {},
     "output_type": "display_data"
    }
   ],
   "source": [
    "err = []\n",
    "poly_range = range(1,14)\n",
    "for i in poly_range:\n",
    "    coefficients = np.polyfit(x, y, i)\n",
    "    p = np.poly1d(coefficients)\n",
    "    err.append(BIC(y,p(x),i))\n",
    "\n",
    "plt.plot(range(1,14),err)\n",
    "plt.ylabel('BIC')\n",
    "plt.xlabel('polynomial order')\n",
    "\n",
    "# lowest Y is what we want (X= 3, so 3 is model we want)"
   ]
  },
  {
   "cell_type": "markdown",
   "metadata": {},
   "source": [
    "## Arbitrary Functional Forms\n",
    "\n"
   ]
  },
  {
   "cell_type": "code",
   "execution_count": 78,
   "metadata": {},
   "outputs": [
    {
     "name": "stdout",
     "output_type": "stream",
     "text": [
      "[1.08640645 1.5089145 ]\n"
     ]
    },
    {
     "data": {
      "text/plain": [
       "[<matplotlib.lines.Line2D at 0x1f792f5a0f0>]"
      ]
     },
     "execution_count": 78,
     "metadata": {},
     "output_type": "execute_result"
    },
    {
     "data": {
      "image/png": "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\n",
      "text/plain": [
       "<Figure size 432x288 with 1 Axes>"
      ]
     },
     "metadata": {},
     "output_type": "display_data"
    }
   ],
   "source": [
    "\n",
    "from scipy.optimize import curve_fit\n",
    "\n",
    "def line(x,m,b):\n",
    "    return m*x+b\n",
    "\n",
    "params, params_covariance = curve_fit(line,x,y)\n",
    "\n",
    "\n",
    "print(params)\n",
    "plt.figure()\n",
    "plt.scatter(x,y)\n",
    "plt.plot(np.linspace(x[0],x[-1],100),\n",
    "         line(np.linspace(x[0],x[-1],100),*params))  #note passing in aruguments with *"
   ]
  },
  {
   "cell_type": "markdown",
   "metadata": {},
   "source": [
    "## Optimization"
   ]
  },
  {
   "cell_type": "code",
   "execution_count": 79,
   "metadata": {},
   "outputs": [
    {
     "data": {
      "image/png": "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\n",
      "text/plain": [
       "<Figure size 432x288 with 1 Axes>"
      ]
     },
     "metadata": {},
     "output_type": "display_data"
    }
   ],
   "source": [
    "from scipy import optimize\n",
    "\n",
    "def f(x):\n",
    "    return 4*x**3 + (x-2)**2 + x**4\n",
    "\n",
    "fig, ax  = plt.subplots()\n",
    "x = np.linspace(-5, 3, 100)\n",
    "y = f(x)\n",
    "ax.plot(x, y);"
   ]
  },
  {
   "cell_type": "code",
   "execution_count": 80,
   "metadata": {},
   "outputs": [
    {
     "name": "stdout",
     "output_type": "stream",
     "text": [
      "[-2.67298167]\n"
     ]
    }
   ],
   "source": [
    "from scipy import optimize\n",
    "\n",
    "x_min = optimize.minimize(f,  -1)\n",
    "print(x_min.x)\n",
    "\n",
    "#find minima of above graph"
   ]
  },
  {
   "cell_type": "code",
   "execution_count": null,
   "metadata": {},
   "outputs": [],
   "source": []
  }
 ],
 "metadata": {
  "kernelspec": {
   "display_name": "Python 3",
   "language": "python",
   "name": "python3"
<<<<<<< Updated upstream
=======
  },
  "language_info": {
   "codemirror_mode": {
    "name": "ipython",
    "version": 3
   },
   "file_extension": ".py",
   "mimetype": "text/x-python",
   "name": "python",
   "nbconvert_exporter": "python",
   "pygments_lexer": "ipython3",
   "version": "3.6.5"
>>>>>>> Stashed changes
  }
 },
 "nbformat": 4,
 "nbformat_minor": 2
}
